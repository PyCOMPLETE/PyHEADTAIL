{
 "metadata": {
  "name": "",
  "signature": "sha256:7676d01287e559b26349c18df16914e37cd81765f6b7fff15755d3966f5dd888"
 },
 "nbformat": 3,
 "nbformat_minor": 0,
 "worksheets": [
  {
   "cells": [
    {
     "cell_type": "heading",
     "level": 1,
     "metadata": {},
     "source": [
      "SETUP"
     ]
    },
    {
     "cell_type": "heading",
     "level": 2,
     "metadata": {},
     "source": [
      "1. GENERAL"
     ]
    },
    {
     "cell_type": "code",
     "collapsed": false,
     "input": [
      "import sys, os\n",
      "PYHEADTAIL_DIR = '../../../'\n",
      "sys.path.append(os.path.expanduser(PYHEADTAIL_DIR))\n",
      "\n",
      "from scipy.constants import c, e, m_p, epsilon_0\n",
      "import numpy as np\n",
      "\n",
      "from PyHEADTAIL.particles.generators import Gaussian6D\n",
      "import PyHEADTAIL.trackers.simple_long_tracking as long_tracking\n",
      "from PyHEADTAIL.particles.slicing import UniformBinSlicer\n",
      "from PyHEADTAIL.spacecharge.spacecharge import LongSpaceCharge\n",
      "import PyHEADTAIL.particles.slicing as slicing\n",
      "from PyHEADTAIL.particles.slicing import SliceSet"
     ],
     "language": "python",
     "metadata": {},
     "outputs": [
      {
       "output_type": "stream",
       "stream": "stdout",
       "text": [
        "PyHEADTAIL v1.2.0-87-g2d87c2cf6b\n",
        "\n",
        "\n"
       ]
      }
     ],
     "prompt_number": 1
    },
    {
     "cell_type": "code",
     "collapsed": false,
     "input": [
      "# physics\n",
      "circ   = 6911.\n",
      "R      = circ/(2*np.pi)\n",
      "alpha  = 18**-2 # i.e. E_transition = 18 * m_p * c**2 = 16.89e9\n",
      "\n",
      "energy = 26e9#10e9#\n",
      "gamma  = energy/(m_p/e*c**2)\n",
      "beta   = np.sqrt(1-gamma**-2)\n",
      "p0     = m_p*np.sqrt(gamma**2-1)*c\n",
      "\n",
      "eta    = alpha - gamma**-2\n",
      "V      = [4e6, 0e5]\n",
      "h      = [4620, 18480]\n",
      "if eta > 0:\n",
      "    phi = np.array([0, 0])\n",
      "else:\n",
      "    phi = np.array([np.pi, np.pi])\n",
      "phi_offset = np.array([0, 0])\n",
      "phi += phi_offset\n",
      "\n",
      "intensity = 4e13#4e12#\n",
      "sigx = 1e-4\n",
      "sigxp = 1e-2\n",
      "sigy = 1e-4\n",
      "sigyp = 1e-2\n",
      "sigz = 0.23 #* 0.3\n",
      "sigdp = 1e-3\n",
      "\n",
      "pipe_radius = 5e-2\n",
      "T0 = circ/(beta*c)"
     ],
     "language": "python",
     "metadata": {},
     "outputs": [],
     "prompt_number": 2
    },
    {
     "cell_type": "code",
     "collapsed": false,
     "input": [
      "# knobs to turn\n",
      "macroparticlenumber = 1e6\n",
      "n_slices = 400"
     ],
     "language": "python",
     "metadata": {},
     "outputs": [],
     "prompt_number": 3
    },
    {
     "cell_type": "code",
     "collapsed": false,
     "input": [
      "def make_bunch(macroparticlenumber):\n",
      "    return Gaussian6D(macroparticlenumber, intensity, e, m_p, circ, gamma, \n",
      "                      sigx, sigxp, sigy, sigyp, sigz, sigdp).generate()\n",
      "\n",
      "longitudinal_map = long_tracking.RFSystems(circ, h, V, phi, [alpha], gamma)\n",
      "slicer = UniformBinSlicer(n_slices, n_sigma_z=3)\n",
      "long_sc = LongSpaceCharge(slicer, pipe_radius, T0)"
     ],
     "language": "python",
     "metadata": {},
     "outputs": [],
     "prompt_number": 4
    },
    {
     "cell_type": "heading",
     "level": 2,
     "metadata": {},
     "source": [
      "2. PYCUDA SETUP"
     ]
    },
    {
     "cell_type": "code",
     "collapsed": false,
     "input": [
      "from pycuda import gpuarray\n",
      "from pycuda import cumath\n",
      "# from pycuda.elementwise import ElementwiseKernel\n",
      "import pycuda.autoinit"
     ],
     "language": "python",
     "metadata": {},
     "outputs": [],
     "prompt_number": 5
    },
    {
     "cell_type": "heading",
     "level": 1,
     "metadata": {},
     "source": [
      "CPU evaluation"
     ]
    },
    {
     "cell_type": "code",
     "collapsed": false,
     "input": [
      "# preparation\n",
      "long_tracking.sin = np.sin\n",
      "\n",
      "bunch = make_bunch(macroparticlenumber)"
     ],
     "language": "python",
     "metadata": {},
     "outputs": [],
     "prompt_number": 6
    },
    {
     "cell_type": "code",
     "collapsed": false,
     "input": [
      "%timeit longitudinal_map.track(bunch)"
     ],
     "language": "python",
     "metadata": {},
     "outputs": [
      {
       "output_type": "stream",
       "stream": "stdout",
       "text": [
        "10 loops, best of 3: 131 ms per loop\n"
       ]
      }
     ],
     "prompt_number": 7
    },
    {
     "cell_type": "code",
     "collapsed": false,
     "input": [
      "%timeit long_sc.track(bunch)"
     ],
     "language": "python",
     "metadata": {},
     "outputs": [
      {
       "output_type": "stream",
       "stream": "stdout",
       "text": [
        "10 loops, best of 3: 58.6 ms per loop\n"
       ]
      }
     ],
     "prompt_number": 8
    },
    {
     "cell_type": "heading",
     "level": 1,
     "metadata": {},
     "source": [
      "GPU evaluation"
     ]
    },
    {
     "cell_type": "code",
     "collapsed": false,
     "input": [
      "# preparation\n",
      "long_tracking.sin = cumath.sin\n",
      "\n",
      "bunch = make_bunch(macroparticlenumber)\n",
      "\n",
      "bunch.z = gpuarray.to_gpu(bunch.z.astype(np.float64))\n",
      "bunch.dp = gpuarray.to_gpu(bunch.dp.astype(np.float64))\n",
      "\n",
      "slicing.SliceSet.npconvert_to_particles = slicing.SliceSet.convert_to_particles\n",
      "slicing.SliceSet.convert_to_particles = lambda *args, **kwargs: gpuarray.to_gpu(slicing.SliceSet.npconvert_to_particles(*args, **kwargs))\n",
      "\n",
      "slicing.floor = cumath.floor\n",
      "\n",
      "def slice_(self, beam, *args, **kwargs):\n",
      "    '''Return a SliceSet object according to the saved\n",
      "    configuration. Generate it using the keywords of the\n",
      "    self.compute_sliceset_kwargs(beam) method.\n",
      "    Defines interface to create SliceSet instances\n",
      "    (factory method).\n",
      "    Arguments:\n",
      "    - statistics=True attaches mean values, standard deviations\n",
      "    and emittances to the SliceSet for all planes.\n",
      "    - statistics=['mean_x', 'sigma_dp', 'epsn_z'] only adds the\n",
      "    listed statistics values (can be used to save time).\n",
      "    Valid list entries are all statistics functions of Particles.\n",
      "    '''\n",
      "    sliceset_kwargs = self.compute_sliceset_kwargs(beam)\n",
      "    sliceset_kwargs['beam_parameters'] = (\n",
      "    self.extract_beam_parameters(beam))\n",
      "    sliceset_kwargs['slice_index_of_particle'] = sliceset_kwargs['slice_index_of_particle'].get()\n",
      "    sliceset = SliceSet(**sliceset_kwargs)\n",
      "    if 'statistics' in kwargs:\n",
      "        self.add_statistics(sliceset, beam, kwargs['statistics'])\n",
      "    return sliceset\n",
      "\n",
      "slicing.Slicer.slice = slice_\n",
      "\n",
      "bunch.mean_z = lambda : 0\n",
      "bunch.sigma_z = lambda : sigz"
     ],
     "language": "python",
     "metadata": {},
     "outputs": [],
     "prompt_number": 9
    },
    {
     "cell_type": "code",
     "collapsed": false,
     "input": [
      "%timeit longitudinal_map.track(bunch)"
     ],
     "language": "python",
     "metadata": {},
     "outputs": [
      {
       "output_type": "stream",
       "stream": "stdout",
       "text": [
        "100 loops, best of 3: 17.3 ms per loop\n"
       ]
      }
     ],
     "prompt_number": 13
    },
    {
     "cell_type": "code",
     "collapsed": false,
     "input": [
      "%timeit long_sc.track(bunch)"
     ],
     "language": "python",
     "metadata": {},
     "outputs": [
      {
       "output_type": "stream",
       "stream": "stdout",
       "text": [
        "100 loops, best of 3: 15.6 ms per loop\n"
       ]
      }
     ],
     "prompt_number": 14
    },
    {
     "cell_type": "code",
     "collapsed": false,
     "input": [],
     "language": "python",
     "metadata": {},
     "outputs": []
    }
   ],
   "metadata": {}
  }
 ]
}