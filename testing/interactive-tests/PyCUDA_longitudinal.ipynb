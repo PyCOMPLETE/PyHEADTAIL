{
 "cells": [
  {
   "cell_type": "markdown",
   "metadata": {},
   "source": [
    "# SETUP"
   ]
  },
  {
   "cell_type": "markdown",
   "metadata": {},
   "source": [
    "## 1. GENERAL"
   ]
  },
  {
   "cell_type": "code",
   "execution_count": 1,
   "metadata": {
    "collapsed": false
   },
   "outputs": [
    {
     "name": "stdout",
     "output_type": "stream",
     "text": [
      "PyHEADTAIL v1.3.0-10-ge651b0b162-dirty\n",
      "\n",
      "\n"
     ]
    }
   ],
   "source": [
    "import sys, os\n",
    "PYHEADTAIL_DIR = '../../../'\n",
    "sys.path.append(os.path.expanduser(PYHEADTAIL_DIR))\n",
    "\n",
    "from scipy.constants import c, e, m_p, epsilon_0\n",
    "import numpy as np\n",
    "\n",
    "from PyHEADTAIL.particles.generators import ParticleGenerator, gaussian2D, gaussian2D_asymmetrical\n",
    "import PyHEADTAIL.trackers.longitudinal_tracking\n",
    "from PyHEADTAIL.particles.slicing import UniformBinSlicer\n",
    "from PyHEADTAIL.spacecharge.spacecharge import LongSpaceCharge\n",
    "import PyHEADTAIL.particles.slicing as slicing\n",
    "from PyHEADTAIL.particles.slicing import SliceSet"
   ]
  },
  {
   "cell_type": "code",
   "execution_count": 2,
   "metadata": {
    "collapsed": false
   },
   "outputs": [],
   "source": [
    "# physics\n",
    "circ   = 6911.\n",
    "R      = circ/(2*np.pi)\n",
    "alpha  = 18**-2 # i.e. E_transition = 18 * m_p * c**2 = 16.89e9\n",
    "\n",
    "energy = 26e9#10e9#\n",
    "gamma  = energy/(m_p/e*c**2)\n",
    "beta   = np.sqrt(1-gamma**-2)\n",
    "p0     = m_p*np.sqrt(gamma**2-1)*c\n",
    "\n",
    "eta    = alpha - gamma**-2\n",
    "V      = [4e6, 0e5]\n",
    "h      = [4620, 18480]\n",
    "if eta > 0:\n",
    "    phi = np.array([0, 0])\n",
    "else:\n",
    "    phi = np.array([np.pi, np.pi])\n",
    "phi_offset = np.array([0, 0])\n",
    "phi += phi_offset\n",
    "\n",
    "intensity = 4e13#4e12#\n",
    "sigx = 1e-4\n",
    "sigxp = 1e-2\n",
    "sigy = 1e-4\n",
    "sigyp = 1e-2\n",
    "sigz = 0.23 #* 0.3\n",
    "sigdp = 1e-3\n",
    "\n",
    "pipe_radius = 5e-2\n",
    "T0 = circ/(beta*c)"
   ]
  },
  {
   "cell_type": "code",
   "execution_count": 3,
   "metadata": {
    "collapsed": false
   },
   "outputs": [],
   "source": [
    "# knobs to turn\n",
    "macroparticlenumber = 1e6\n",
    "n_slices = 400"
   ]
  },
  {
   "cell_type": "code",
   "execution_count": 4,
   "metadata": {
    "collapsed": false
   },
   "outputs": [],
   "source": [
    "def make_bunch(macroparticlenumber):\n",
    "    return ParticleGenerator(macroparticlenumber, intensity, e, m_p, circ, gamma,\n",
    "                             distribution_x=gaussian2D_asymmetrical(sigx, sigxp),\n",
    "                             distribution_y=gaussian2D_asymmetrical(sigy, sigyp),\n",
    "                             distribution_z=gaussian2D_asymmetrical(sigz, sigdp)).generate()\n",
    "\n",
    "longitudinal_map = longitudinal_tracking.RFSystems(circ, h, V, phi, [alpha], gamma)\n",
    "slicer = UniformBinSlicer(n_slices, n_sigma_z=3)\n",
    "long_sc = LongSpaceCharge(slicer, pipe_radius, T0)"
   ]
  },
  {
   "cell_type": "markdown",
   "metadata": {},
   "source": [
    "## 2. PYCUDA SETUP"
   ]
  },
  {
   "cell_type": "code",
   "execution_count": 5,
   "metadata": {
    "collapsed": false
   },
   "outputs": [],
   "source": [
    "from pycuda import gpuarray\n",
    "from pycuda import cumath\n",
    "# from pycuda.elementwise import ElementwiseKernel\n",
    "import pycuda.autoinit"
   ]
  },
  {
   "cell_type": "markdown",
   "metadata": {},
   "source": [
    "# CPU evaluation"
   ]
  },
  {
   "cell_type": "code",
   "execution_count": 6,
   "metadata": {
    "collapsed": false
   },
   "outputs": [],
   "source": [
    "# preparation\n",
    "longitudinal_tracking.sin = np.sin\n",
    "\n",
    "bunch = make_bunch(macroparticlenumber)"
   ]
  },
  {
   "cell_type": "code",
   "execution_count": 7,
   "metadata": {
    "collapsed": false
   },
   "outputs": [
    {
     "name": "stdout",
     "output_type": "stream",
     "text": [
      "10 loops, best of 3: 155 ms per loop\n"
     ]
    }
   ],
   "source": [
    "%timeit longitudinal_map.track(bunch)"
   ]
  },
  {
   "cell_type": "code",
   "execution_count": 8,
   "metadata": {
    "collapsed": false
   },
   "outputs": [
    {
     "name": "stdout",
     "output_type": "stream",
     "text": [
      "10 loops, best of 3: 54.1 ms per loop\n"
     ]
    }
   ],
   "source": [
    "%timeit long_sc.track(bunch)"
   ]
  },
  {
   "cell_type": "markdown",
   "metadata": {},
   "source": [
    "# GPU evaluation"
   ]
  },
  {
   "cell_type": "code",
   "execution_count": 9,
   "metadata": {
    "collapsed": false
   },
   "outputs": [],
   "source": [
    "# preparation\n",
    "longitudinal_tracking.sin = cumath.sin\n",
    "\n",
    "bunch = make_bunch(macroparticlenumber)\n",
    "\n",
    "\n",
    "\n",
    "bunch.z = gpuarray.to_gpu(bunch.z.astype(np.float64))\n",
    "bunch.dp = gpuarray.to_gpu(bunch.dp.astype(np.float64))\n",
    "\n",
    "slicing.SliceSet.npconvert_to_particles = slicing.SliceSet.convert_to_particles\n",
    "slicing.SliceSet.convert_to_particles = lambda *args, **kwargs: gpuarray.to_gpu(slicing.SliceSet.npconvert_to_particles(*args, **kwargs))\n",
    "\n",
    "slicing.floor = cumath.floor\n",
    "\n",
    "def slice_(self, beam, *args, **kwargs):\n",
    "    '''Return a SliceSet object according to the saved\n",
    "    configuration. Generate it using the keywords of the\n",
    "    self.compute_sliceset_kwargs(beam) method.\n",
    "    Defines interface to create SliceSet instances\n",
    "    (factory method).\n",
    "    Arguments:\n",
    "    - statistics=True attaches mean values, standard deviations\n",
    "    and emittances to the SliceSet for all planes.\n",
    "    - statistics=['mean_x', 'sigma_dp', 'epsn_z'] only adds the\n",
    "    listed statistics values (can be used to save time).\n",
    "    Valid list entries are all statistics functions of Particles.\n",
    "    '''\n",
    "    sliceset_kwargs = self.compute_sliceset_kwargs(beam)\n",
    "    sliceset_kwargs['beam_parameters'] = (\n",
    "    self.extract_beam_parameters(beam))\n",
    "    sliceset_kwargs['slice_index_of_particle'] = sliceset_kwargs['slice_index_of_particle'].get()\n",
    "    sliceset = SliceSet(**sliceset_kwargs)\n",
    "    if 'statistics' in kwargs:\n",
    "        self.add_statistics(sliceset, beam, kwargs['statistics'])\n",
    "    return sliceset\n",
    "\n",
    "slicing.Slicer.slice = slice_\n",
    "\n",
    "bunch.mean_z = lambda : 0\n",
    "bunch.sigma_z = lambda : sigz"
   ]
  },
  {
   "cell_type": "code",
   "execution_count": 10,
   "metadata": {
    "collapsed": false
   },
   "outputs": [
    {
     "name": "stdout",
     "output_type": "stream",
     "text": [
      "The slowest run took 37.09 times longer than the fastest. This could mean that an intermediate result is being cached \n",
      "1 loops, best of 3: 23.5 ms per loop\n"
     ]
    }
   ],
   "source": [
    "bunch.x = gpuarray.to_gpu(bunch.x.astype(np.float64))\n",
    "bunch.y = gpuarray.to_gpu(bunch.y.astype(np.float64))\n",
    "%timeit longitudinal_map.track(bunch)"
   ]
  },
  {
   "cell_type": "code",
   "execution_count": 11,
   "metadata": {
    "collapsed": false
   },
   "outputs": [
    {
     "name": "stdout",
     "output_type": "stream",
     "text": [
      "The slowest run took 8.28 times longer than the fastest. This could mean that an intermediate result is being cached \n",
      "1 loops, best of 3: 45.6 ms per loop\n"
     ]
    }
   ],
   "source": [
    "bunch.x = bunch.x.get() # cobra_functions cannot handle gpuarrays...\n",
    "bunch.y = bunch.y.get() # cobra_functions cannot handle gpuarrays...\n",
    "%timeit long_sc.track(bunch)"
   ]
  },
  {
   "cell_type": "code",
   "execution_count": null,
   "metadata": {
    "collapsed": false
   },
   "outputs": [],
   "source": []
  }
 ],
 "metadata": {
  "kernelspec": {
   "display_name": "Python 2",
   "language": "python",
   "name": "python2"
  },
  "language_info": {
   "codemirror_mode": {
    "name": "ipython",
    "version": 2
   },
   "file_extension": ".py",
   "mimetype": "text/x-python",
   "name": "python",
   "nbconvert_exporter": "python",
   "pygments_lexer": "ipython2",
   "version": "2.7.6"
  }
 },
 "nbformat": 4,
 "nbformat_minor": 0
}
