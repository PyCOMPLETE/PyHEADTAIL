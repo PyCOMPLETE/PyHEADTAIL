{
 "cells": [
  {
   "cell_type": "code",
   "execution_count": 1,
   "metadata": {
    "autoscroll": "json-false",
    "collapsed": false,
    "ein.tags": [
     "worksheet-0"
    ]
   },
   "outputs": [],
   "source": [
    "%reload_ext Cython\n",
    "%reload_ext autoreload\n",
    "%reload_ext line_profiler"
   ]
  },
  {
   "cell_type": "code",
   "execution_count": 2,
   "metadata": {
    "autoscroll": "json-false",
    "collapsed": false,
    "ein.tags": [
     "worksheet-0"
    ]
   },
   "outputs": [
    {
     "name": "stderr",
     "output_type": "stream",
     "text": [
      "/usr/lib64/python2.7/site-packages/matplotlib/__init__.py:872: UserWarning: axes.color_cycle is deprecated and replaced with axes.prop_cycle; please use the latter.\n",
      "  warnings.warn(self.msg_depr % (key, alt_key))\n"
     ]
    }
   ],
   "source": [
    "from copy import deepcopy\n",
    "import numpy as np\n",
    "import matplotlib.pyplot as plt\n",
    "from scipy.constants import c, e, m_p\n",
    "from scipy.signal import fftconvolve\n",
    "\n",
    "%matplotlib tk\n",
    "import seaborn as sns\n",
    "sns.set_context('talk', font_scale=1.5,\n",
    "                rc={'lines.markeredgewidth': .1})\n",
    "sns.set_style('darkgrid', {\n",
    "        'axes.linewidth': 2,\n",
    "        'legend.fancybox': True})"
   ]
  },
  {
   "cell_type": "code",
   "execution_count": 3,
   "metadata": {
    "autoscroll": "json-false",
    "collapsed": false,
    "ein.tags": [
     "worksheet-0"
    ]
   },
   "outputs": [
    {
     "name": "stdout",
     "output_type": "stream",
     "text": [
      "PyHEADTAIL v1.9.4.40\n",
      "\n",
      "\n"
     ]
    }
   ],
   "source": [
    "from PyHEADTAIL.trackers.rf_bucket import RFBucket\n",
    "import PyHEADTAIL.particles.generators as gen"
   ]
  },
  {
   "cell_type": "markdown",
   "metadata": {},
   "source": [
    "## Description\n",
    "\n",
    "This script is supposed to test the implementation of multi-turn multi-bunch wakes. It tests in particular the implementation of the convolution which becomes a little tricky due to all the book-keeping involved for the multiple turns and the multiple bunches.\n",
    "\n",
    "The script employs a simple resonator constant wake field and computes the wake kicks for several beam configurations which are conceptually different but mathematicalle/computationally identical. This is done by first initializing 3 separate bunches with individual bunch lengths (epsn_z) and delays (dz). The bunches are replicated at a distance of one circumference resulting in $2\\times 3 = 6$ bunches in total. Three cases are then studied and compared:\n",
    "\n",
    "1. All bunches are added into one total beam. A long slicer is used to compute the standard single bunch wake kick. This is the original computation and no book-keeping is involved. The bunch-to-bunch wake should be visible in the first half of the computed wake kick. The turn-by-turn wakes should be visible in the later half of the computed wake kicks. Inbetween, the ringing of the wakes will be seen.\n",
    "2. Only the 3 initial bunches are added into a beam. The later half of the wake kicks should now evolve from the turn-by-turn computation of the wake fields. We hope to see the wake kicks in the later half to overlap.\n",
    "3. This is the full granularity of multi-turn multi-bunch wake kick computation whivch involves the full book-keeping. We treat all 3 bunches individually and track them for 2 turns. We hope to see the individual wake kicks of each bunch to overlap in the first half for turn 1 and in the later half for turn 2.\n",
    "\n",
    "***"
   ]
  },
  {
   "cell_type": "markdown",
   "metadata": {
    "ein.tags": [
     "worksheet-0"
    ]
   },
   "source": [
    "### Create bunches and bunches_list"
   ]
  },
  {
   "cell_type": "code",
   "execution_count": 4,
   "metadata": {
    "autoscroll": "json-false",
    "collapsed": false,
    "ein.tags": [
     "worksheet-0"
    ]
   },
   "outputs": [
    {
     "name": "stdout",
     "output_type": "stream",
     "text": [
      "479.606062093\n"
     ]
    }
   ],
   "source": [
    "momentum = 450e9 * e/c\n",
    "gamma = np.sqrt((momentum/(m_p*c))**2 + 1)\n",
    "beta = np.sqrt(1 - gamma**-2)\n",
    "\n",
    "circumference = 60\n",
    "alpha = 3.225e-4\n",
    "h1 = 20\n",
    "V1 = 2e3\n",
    "p_increment = 0 * e/c * circumference/(beta*c)\n",
    "\n",
    "print gamma"
   ]
  },
  {
   "cell_type": "code",
   "execution_count": 5,
   "metadata": {
    "autoscroll": "json-false",
    "collapsed": false,
    "ein.tags": [
     "worksheet-0"
    ]
   },
   "outputs": [],
   "source": [
    "rfbucket = RFBucket(\n",
    "    charge=e, mass=m_p, gamma=gamma,\n",
    "    circumference=circumference,\n",
    "    alpha_array=[alpha], p_increment=0,\n",
    "    harmonic_list=[h1], voltage_list=[V1], phi_offset_list=[0])"
   ]
  },
  {
   "cell_type": "code",
   "execution_count": 6,
   "metadata": {
    "autoscroll": "json-false",
    "collapsed": false,
    "ein.tags": [
     "worksheet-0"
    ]
   },
   "outputs": [],
   "source": [
    "T0 = circumference/beta/c\n",
    "dt = (0, 5e-9, 12.5e-9, T0+0, T0+5e-9, T0+12.5e-9)\n",
    "epsn_z = (0.35, 0.25, 0.1, 0.35, 0.25, 0.1)\n",
    "# epsn_z = (0.1, 0.25, 0.35, 0.1, 0.25, 0.35)"
   ]
  },
  {
   "cell_type": "code",
   "execution_count": 7,
   "metadata": {
    "autoscroll": "json-false",
    "collapsed": false,
    "ein.tags": [
     "worksheet-0"
    ]
   },
   "outputs": [
    {
     "name": "stdout",
     "output_type": "stream",
     "text": [
      "*** Maximum RMS emittance 2.37895476067eV s.\n",
      "... distance to target emittance: 1.16e-02\n",
      "... distance to target emittance: 1.18e-02\n",
      "... distance to target emittance: 1.51e-05\n",
      "--> Emittance: 0.350000019563\n",
      "--> Bunch length:0.165598558077"
     ]
    },
    {
     "name": "stderr",
     "output_type": "stream",
     "text": [
      "/home/kli/workspace/PyHEADTAIL/particles/generators.py:334: VisibleDeprecationWarning: using a non-integer number instead of an integer will result in an error in the future\n",
      "  coords = [np.random.normal(loc=0., scale=std, size=n_particles),\n",
      "/home/kli/workspace/PyHEADTAIL/particles/generators.py:335: VisibleDeprecationWarning: using a non-integer number instead of an integer will result in an error in the future\n",
      "  np.random.normal(loc=0., scale=std, size=n_particles)]\n",
      "/home/kli/workspace/PyHEADTAIL/particles/generators.py:535: VisibleDeprecationWarning: using a non-integer number instead of an integer will result in an error in the future\n",
      "  u = uniform(low=xmin, high=xmax, size=n_gen)\n"
     ]
    },
    {
     "name": "stdout",
     "output_type": "stream",
     "text": [
      "\n",
      "*** Maximum RMS emittance 2.37895476067eV s.\n",
      "... distance to target emittance: 5.69e-03\n",
      "... distance to target emittance: 5.82e-03\n",
      "... distance to target emittance: 3.33e-06\n",
      "--> Emittance: 0.250000001947\n",
      "--> Bunch length:0.13928832556\n",
      "*** Maximum RMS emittance 2.37895476067eV s.\n",
      "... distance to target emittance: 8.61e-04\n",
      "... distance to target emittance: 9.73e-04\n",
      "... distance to target emittance: 7.45e-08\n",
      "--> Emittance: 0.100000000006\n",
      "--> Bunch length:0.0875026472416\n"
     ]
    },
    {
     "name": "stderr",
     "output_type": "stream",
     "text": [
      "/home/kli/workspace/PyHEADTAIL/particles/generators.py:536: VisibleDeprecationWarning: using a non-integer number instead of an integer will result in an error in the future\n",
      "  v = uniform(low=ymin, high=ymax, size=n_gen)\n",
      "/home/kli/workspace/PyHEADTAIL/particles/generators.py:537: VisibleDeprecationWarning: using a non-integer number instead of an integer will result in an error in the future\n",
      "  s = uniform(size=n_gen)\n"
     ]
    }
   ],
   "source": [
    "bunches_list = [\n",
    "    gen.ParticleGenerator(\n",
    "        macroparticlenumber=1e5, intensity=1e11,\n",
    "        charge=e, mass=m_p, gamma=gamma,\n",
    "        circumference=circumference,\n",
    "        distribution_x=gen.gaussian2D(2e-6),\n",
    "        distribution_y=gen.gaussian2D(2e-6),\n",
    "        distribution_z=gen.RF_bucket_distribution(rfbucket, epsn_z=epsn_z[i])\n",
    "    ).generate() for i in xrange(3)]\n",
    "\n",
    "bunches_list = [deepcopy(b) for i in range(2) for b in bunches_list]\n",
    "for i, b in enumerate(bunches_list):\n",
    "    b.z -= dt[i] * (b.beta*c)\n",
    "    b.dt = dt[i]\n",
    "\n",
    "bunches = sum(bunches_list)\n",
    "bunches.dt = dt[0]"
   ]
  },
  {
   "cell_type": "code",
   "execution_count": 8,
   "metadata": {
    "autoscroll": "json-false",
    "collapsed": false,
    "ein.tags": [
     "worksheet-0"
    ]
   },
   "outputs": [],
   "source": [
    "# cmap = sns.color_palette('viridis', 3)\n",
    "# fig, ax = plt.subplots(figsize=(16,9))\n",
    "\n",
    "# [ax.scatter(b.z, b.dp, marker='o', edgecolor='k', color=cmap[i]) for i, b in enumerate(bunches_list[:3])]\n",
    "# ax.set_xlabel(r'$z$ [m]', fontsize=24)\n",
    "# ax.set_ylabel(r'$\\delta$', fontsize=24)\n",
    "# ax.set_ylim(-1e-3, 1e-3)\n",
    "# plt.show()"
   ]
  },
  {
   "cell_type": "markdown",
   "metadata": {
    "ein.tags": [
     "worksheet-0"
    ]
   },
   "source": [
    "### Wakes and wake kicks and functions"
   ]
  },
  {
   "cell_type": "code",
   "execution_count": 9,
   "metadata": {
    "autoscroll": "json-false",
    "collapsed": false,
    "ein.tags": [
     "worksheet-0"
    ]
   },
   "outputs": [],
   "source": [
    "%autoreload 2\n",
    "from PyHEADTAIL.particles.slicing import UniformBinSlicer\n",
    "from PyHEADTAIL.impedances.wakes import CircularResonator, WakeField\n",
    "from PyHEADTAIL.impedances.wake_kicks import ConstantWakeKickX"
   ]
  },
  {
   "cell_type": "code",
   "execution_count": 10,
   "metadata": {
    "autoscroll": "json-false",
    "collapsed": false,
    "ein.tags": [
     "worksheet-0"
    ]
   },
   "outputs": [
    {
     "name": "stdout",
     "output_type": "stream",
     "text": [
      "*** PyHEADTAIL WARNING! Acceleration not handled properly by this kind of convolution due to changing bunch length!\n"
     ]
    }
   ],
   "source": [
    "slicer = UniformBinSlicer(100, z_cuts=(-.5, .5))\n",
    "\n",
    "class CircularResonatorMod(CircularResonator):\n",
    "    \n",
    "    def get_wake_kicks(self, slicer):\n",
    "        wake_kicks = []\n",
    "        \n",
    "        if self.Yokoya_X1:\n",
    "            wake_function = self.function_transverse(self.Yokoya_X1)\n",
    "            wake_kicks.append(ConstantWakeKickX(\n",
    "                wake_function, slicer, self.n_turns_wake))\n",
    "            \n",
    "        return wake_kicks\n",
    "    \n",
    "wake = CircularResonatorMod(R_shunt=1e6, frequency=700e6, Q=350, n_turns_wake=4)\n",
    "\n",
    "wakefields = WakeField(slicer, wake, circumference=circumference)\n",
    "wakekick = wakefields.wake_kicks[0]\n",
    "wakefunction = wakekick.wake_function"
   ]
  },
  {
   "cell_type": "markdown",
   "metadata": {
    "ein.tags": [
     "worksheet-0"
    ]
   },
   "source": [
    "### Convolutions"
   ]
  },
  {
   "cell_type": "code",
   "execution_count": 11,
   "metadata": {
    "autoscroll": "json-false",
    "collapsed": false,
    "ein.tags": [
     "worksheet-0"
    ]
   },
   "outputs": [],
   "source": [
    "def convolution_python(t_target, t_source, c_source, w):\n",
    "    dxp = 0.*t_target\n",
    "    for k in xrange(len(t_target)):\n",
    "        for l in xrange(len(t_source)):\n",
    "            dxp[k] += c_source[l]*w(t_target[k]-t_source[l])\n",
    "\n",
    "    return dxp"
   ]
  },
  {
   "cell_type": "code",
   "execution_count": 12,
   "metadata": {
    "autoscroll": "json-false",
    "collapsed": false,
    "ein.tags": [
     "worksheet-0"
    ]
   },
   "outputs": [],
   "source": [
    "def convolution_numpy(t_target, t_source, c_source, w):\n",
    "    tmin, tmax = t_source[0], t_source[-1]\n",
    "    tt = np.concatenate((t_target-tmax, (t_target-tmin)[1:]))\n",
    "    \n",
    "    return np.convolve(c_source, w(tt), mode='valid')"
   ]
  },
  {
   "cell_type": "code",
   "execution_count": 13,
   "metadata": {
    "autoscroll": "json-false",
    "collapsed": false,
    "ein.tags": [
     "worksheet-0"
    ]
   },
   "outputs": [],
   "source": [
    "def convolve_multibunch(bunches, times, ages, cmoments, betas, wf, f_convolution=convolution_python):\n",
    "    dxp = []\n",
    "    bunches = np.atleast_1d(bunches)\n",
    "    \n",
    "    n_turns, n_bunches, n_slices = times.shape\n",
    "    dt = [b.dt for b in bunches]\n",
    "\n",
    "    for i in xrange(n_bunches):\n",
    "        z = 0\n",
    "        t_target = times[0,i]\n",
    "        n_bunches_infront = i+1\n",
    "        for k in xrange(n_turns):\n",
    "            if k>0:\n",
    "                n_bunches_infront = n_bunches\n",
    "            for j in range(n_bunches_infront):\n",
    "                t_source = times[k,j] + ages[k] + dt[i] - dt[j]\n",
    "                c_source = cmoments[k,j]\n",
    "                z += f_convolution(t_target, t_source, c_source, wf) # betas not used here thanks to wake\n",
    "            \n",
    "        dxp.append(z)\n",
    "        \n",
    "    return dxp"
   ]
  },
  {
   "cell_type": "code",
   "execution_count": 14,
   "metadata": {
    "autoscroll": "json-false",
    "collapsed": false,
    "ein.tags": [
     "worksheet-0"
    ]
   },
   "outputs": [],
   "source": [
    "def convolve_PyHEADTAIL_sb(bunch, times, ages, cmoments, betas):\n",
    "    return wakekick._accumulate_source_signal(bunch, times, ages, cmoments, betas)"
   ]
  },
  {
   "cell_type": "code",
   "execution_count": 15,
   "metadata": {
    "autoscroll": "json-false",
    "collapsed": false,
    "ein.tags": [
     "worksheet-0"
    ]
   },
   "outputs": [],
   "source": [
    "def convolve_PyHEADTAIL_mb(bunches, times, ages, cmoments, betas):\n",
    "    return wakekick._accumulate_source_signal_multibunch(bunches, times, ages, cmoments, betas)"
   ]
  },
  {
   "cell_type": "code",
   "execution_count": 16,
   "metadata": {
    "autoscroll": "json-false",
    "collapsed": false,
    "ein.tags": [
     "worksheet-0"
    ]
   },
   "outputs": [],
   "source": [
    "def get_times_and_moments(bunches_list, slicer):\n",
    "    bunches_list = np.atleast_1d(bunches_list)\n",
    "\n",
    "    slices_list = []\n",
    "    times_list = []\n",
    "    cmoments_list = []\n",
    "    for i, b in enumerate(bunches_list):\n",
    "        distance = dt[i]*b.beta*c\n",
    "        b.z += distance\n",
    "        slices_list.append(b.get_slices(slicer))\n",
    "        times_list.append(slices_list[-1].z_centers / (b.beta*c))\n",
    "        cmoments_list.append(slices_list[-1].charge_per_slice)\n",
    "        b.z -= distance\n",
    "\n",
    "    # Multi-turn multi-bunch times and moments arrays - here, only one turn assumed\n",
    "    n_turns = 1\n",
    "    n_bunches = len(bunches_list)\n",
    "    n_slices = len(times_list[0])\n",
    "\n",
    "    tmp = np.zeros((n_turns, n_bunches, n_slices))\n",
    "    tmp[0,:,:] = times_list\n",
    "    times_array = tmp\n",
    "\n",
    "    tmp = np.zeros((n_turns, n_bunches, n_slices))\n",
    "    tmp[0,:,:] = cmoments_list\n",
    "    cmoments_array = tmp\n",
    "\n",
    "    ages_list = np.array([0 for b in bunches_list])\n",
    "    betas_list = np.array([[b.beta for b in bunches_list]])\n",
    "    \n",
    "    return times_array, ages_list, cmoments_array, betas_list"
   ]
  },
  {
   "cell_type": "markdown",
   "metadata": {
    "ein.tags": [
     "worksheet-0"
    ]
   },
   "source": [
    "## Cases"
   ]
  },
  {
   "cell_type": "markdown",
   "metadata": {
    "ein.tags": [
     "worksheet-0"
    ]
   },
   "source": [
    "#### 1. All $2\\times 3$ bunches concatenated in a linac for the full wake kick computation using a long slicer\n",
    "---"
   ]
  },
  {
   "cell_type": "code",
   "execution_count": 17,
   "metadata": {
    "autoscroll": "json-false",
    "collapsed": false,
    "ein.tags": [
     "worksheet-0"
    ]
   },
   "outputs": [],
   "source": [
    "slicer = UniformBinSlicer(4000, z_cuts=(-65, .5))\n",
    "\n",
    "times, ages, cmoments, betas = get_times_and_moments(bunches, slicer)\n",
    "\n",
    "delta_xp_mb = convolve_PyHEADTAIL_mb(bunches, times, ages, cmoments, betas)\n",
    "delta_xp_np = convolve_multibunch(bunches, times, ages, cmoments, betas, wakefunction)\n",
    "\n",
    "times_list = times[:,0,:]\n",
    "cmoments_list = cmoments[:,0,:]\n",
    "\n",
    "delta_xp_sb = convolve_PyHEADTAIL_sb(bunches, times_list, ages, cmoments_list, betas)"
   ]
  },
  {
   "cell_type": "code",
   "execution_count": 18,
   "metadata": {
    "autoscroll": "json-false",
    "collapsed": false,
    "ein.tags": [
     "worksheet-0"
    ]
   },
   "outputs": [
    {
     "data": {
      "text/plain": [
       "<matplotlib.text.Text at 0x7f7df8e98e50>"
      ]
     },
     "execution_count": 18,
     "metadata": {},
     "output_type": "execute_result"
    }
   ],
   "source": [
    "times = np.squeeze(times)\n",
    "cmoments = np.squeeze(cmoments)\n",
    "dxp1 = np.squeeze(delta_xp_mb)\n",
    "dxp2 = np.squeeze(delta_xp_sb)\n",
    "dxp3 = np.squeeze(delta_xp_np)\n",
    "\n",
    "t0 = np.concatenate((times-times[-1], (times-times[0])[1:]))\n",
    "to_z = beta*c\n",
    "\n",
    "col = sns.color_palette('cubehelix', 3, 0.8)\n",
    "fig, (ax1, ax2, ax3) = plt.subplots(3, figsize=(16,10), sharex=True)\n",
    "\n",
    "ax1.plot(t0*to_z, wakefunction(t0)[::-1]/max(wakefunction(t0)[::-1]))\n",
    "ax1.plot((times-times[-1])*to_z, cmoments/max(cmoments))\n",
    "ax1.set_ylim((-1.1, 1.1))\n",
    "ax1.legend(['Wake', 'Bunch'], loc=0)\n",
    "ax1.set_xlim(-66, 6)\n",
    "\n",
    "ax2.plot((times-times[-1])*to_z, dxp1/max(dxp1))\n",
    "ax2.plot((times-times[-1])*to_z, dxp2/max(dxp2))\n",
    "ax2.plot((times-times[-1])*to_z, -dxp3/max(-dxp3))\n",
    "ax2.legend(['PyHEADTAIL MB', 'PyHEADTAIL SB', 'Notebook manual'], loc=0)\n",
    "\n",
    "ax3.plot((times-times[-1])*to_z, 2*cmoments/max(cmoments))\n",
    "ax3.plot((times-times[-1])*to_z, dxp1/max(dxp1))\n",
    "ax3.legend(['Wake', 'Wake kick'])\n",
    "\n",
    "# ax3.set_xlim((-6, 3))\n",
    "# ax3.set_xlim((-66, -57))\n",
    "ax3.set_ylim(-2.1, 2.1)\n",
    "ax3.set_xlabel(r'$z$ [m]', fontsize=22)\n",
    "# ax3.legend(loc=0)"
   ]
  },
  {
   "cell_type": "markdown",
   "metadata": {
    "ein.tags": [
     "worksheet-0"
    ]
   },
   "source": [
    "#### Only the first 3 bunches concatenated into a beam in a ring. Track for two turns using a shorter slicer and plot the wake kicks of the second turn.\n",
    "---"
   ]
  },
  {
   "cell_type": "code",
   "execution_count": 19,
   "metadata": {
    "autoscroll": "json-false",
    "collapsed": false,
    "ein.tags": [
     "worksheet-0"
    ]
   },
   "outputs": [],
   "source": [
    "slicer = UniformBinSlicer(500, z_cuts=(-5, 0.5))\n",
    "\n",
    "bunches_source = sum(bunches_list[:3])\n",
    "bunches_target = sum(bunches_list[3:])\n",
    "times_s, ages_s, cmoments_s, betas_s = get_times_and_moments(bunches_source, slicer)\n",
    "times_t, ages_t, cmoments_t, betas_t = get_times_and_moments(bunches_source, slicer)\n",
    "\n",
    "bunches_target.dt = 0\n",
    "\n",
    "n_turns, n_bunches = 2, 1\n",
    "times_reg = np.zeros((n_turns, n_bunches, slicer.n_slices))\n",
    "cmoments_reg = np.zeros((n_turns, n_bunches, slicer.n_slices))\n",
    "\n",
    "times_reg[0,0,:] = times_t\n",
    "times_reg[1,0,:] = times_s\n",
    "cmoments_reg[0,0,:] = cmoments_t\n",
    "cmoments_reg[1,0,:] = cmoments_s\n",
    "\n",
    "ages = [0., T0]\n",
    "betas = [bunches_target.beta, bunches_source.beta]"
   ]
  },
  {
   "cell_type": "code",
   "execution_count": 20,
   "metadata": {
    "autoscroll": "json-false",
    "collapsed": false,
    "ein.tags": [
     "worksheet-0"
    ]
   },
   "outputs": [],
   "source": [
    "dxp_mt = convolve_PyHEADTAIL_mb(bunches_target, times_reg, ages, cmoments_reg, betas)\n",
    "dxp_mt = np.squeeze(dxp_mt[0])\n",
    "dxp_mt_np = convolve_multibunch(bunches, times_reg, ages, cmoments_reg, betas, wakefunction)\n",
    "dxp_mt_np = np.squeeze(dxp_mt_np[0])"
   ]
  },
  {
   "cell_type": "code",
   "execution_count": 21,
   "metadata": {
    "autoscroll": "json-false",
    "collapsed": false,
    "ein.tags": [
     "worksheet-0"
    ]
   },
   "outputs": [
    {
     "data": {
      "text/plain": [
       "[<matplotlib.lines.Line2D at 0x7f7df7f2df90>]"
      ]
     },
     "execution_count": 21,
     "metadata": {},
     "output_type": "execute_result"
    }
   ],
   "source": [
    "times = np.squeeze(times)\n",
    "cmoments = np.squeeze(cmoments)\n",
    "dxp1 = np.squeeze(delta_xp_mb)\n",
    "dxp2 = np.squeeze(delta_xp_sb)\n",
    "dxp3 = np.squeeze(delta_xp_np)\n",
    "\n",
    "t0 = np.concatenate((times-times[-1], (times-times[0])[1:]))\n",
    "\n",
    "col = sns.color_palette('viridis', 3, 0.8)\n",
    "fig, (ax1, ax2, ax3) = plt.subplots(3, figsize=(16,10), sharex=True)\n",
    "\n",
    "ax1.plot(t0, wakefunction(t0)[::-1]/max(wakefunction(t0)[::-1]))\n",
    "ax1.plot(times-times[-1], cmoments/max(cmoments))\n",
    "ax1.set_ylim((-1.1, 1.1))\n",
    "ax1.legend(['Wake', 'Bunch'], loc=0)\n",
    "ax1.set_xlim(-220e-9, 20e-9)\n",
    "\n",
    "ax2.plot(times-times[-1], dxp1/max(dxp1))\n",
    "ax2.plot(times-times[-1], dxp2/max(dxp2))\n",
    "ax2.plot(times-times[-1], -dxp3/max(-dxp3))\n",
    "ax2.legend(['PyHEADTAIL MB', 'PyHEADTAIL SB', 'Notebook manual'], loc=0)\n",
    "\n",
    "ax3.plot(times-times[-1], 2*cmoments/max(cmoments))\n",
    "ax3.plot(times-times[-1], dxp1/max(dxp1))\n",
    "ax3.legend(['Wake', 'Wake kick'])\n",
    "\n",
    "for i in range(n_turns):\n",
    "    ax3.plot(times_reg[i,0,:]-times[-1]-ages[i],\n",
    "             2*cmoments_reg[i,0,:]/max(cmoments_reg[1,0,:]),\n",
    "             c=col[i], label='One bunch, turn {:d}'.format(i+1))\n",
    "ax3.plot(times_reg[1,0,:]-times[-1]-ages[i], dxp_mt/max(dxp_mt))\n",
    "ax3.plot(times_reg[1,0,:]-times[-1]-ages[i], -dxp_mt_np/max(-dxp_mt_np))\n",
    "\n",
    "# ax3.set_xlim((-22e-9, 2e-9))\n",
    "# ax3.set_xlim((-220e-9, -190e-9))"
   ]
  },
  {
   "cell_type": "markdown",
   "metadata": {
    "ein.tags": [
     "worksheet-0"
    ]
   },
   "source": [
    "#### Multiple turns, multiple bunches ($2\\times 3$) in a ring\n",
    "---"
   ]
  },
  {
   "cell_type": "code",
   "execution_count": 22,
   "metadata": {
    "autoscroll": "json-false",
    "collapsed": false,
    "ein.tags": [
     "worksheet-0"
    ]
   },
   "outputs": [
    {
     "name": "stdout",
     "output_type": "stream",
     "text": [
      "*** PyHEADTAIL WARNING! Acceleration not handled properly by this kind of convolution due to changing bunch length!\n"
     ]
    }
   ],
   "source": [
    "slicer = UniformBinSlicer(100, z_cuts=(-.5, .5))\n",
    "\n",
    "class CircularResonatorMod(CircularResonator):\n",
    "    \n",
    "    def get_wake_kicks(self, slicer):\n",
    "        wake_kicks = []\n",
    "        \n",
    "        if self.Yokoya_X1:\n",
    "            wake_function = self.function_transverse(self.Yokoya_X1)\n",
    "            wake_kicks.append(ConstantWakeKickX(\n",
    "                wake_function, slicer, self.n_turns_wake))\n",
    "            \n",
    "        return wake_kicks\n",
    "    \n",
    "wake = CircularResonatorMod(R_shunt=1e6, frequency=700e6, Q=350, n_turns_wake=4)\n",
    "\n",
    "wakefields = WakeField(slicer, wake, circumference=circumference)\n",
    "wakekick = wakefields.wake_kicks[0]\n",
    "wakefunction = wakekick.wake_function"
   ]
  },
  {
   "cell_type": "code",
   "execution_count": 23,
   "metadata": {
    "autoscroll": "json-false",
    "collapsed": false,
    "ein.tags": [
     "worksheet-0"
    ]
   },
   "outputs": [
    {
     "name": "stdout",
     "output_type": "stream",
     "text": [
      "(1, 3, 100)\n"
     ]
    }
   ],
   "source": [
    "bunches_sublist = deepcopy(bunches_list[:3])\n",
    "for i, b in enumerate(bunches_sublist):\n",
    "    b.z += dt[i] * (b.beta*c)\n",
    "\n",
    "wakefields.track(bunches_sublist)\n",
    "times_pyht, ages_pyht, moments_pyht, betas_pyht = wakekick._extract_slice_set_data(wakefields.slice_set_deque)\n",
    "\n",
    "dxp_pyht = wakekick.dxp\n",
    "print times_pyht.shape"
   ]
  },
  {
   "cell_type": "code",
   "execution_count": 24,
   "metadata": {
    "autoscroll": "json-false",
    "collapsed": false,
    "ein.tags": [
     "worksheet-0"
    ]
   },
   "outputs": [
    {
     "data": {
      "text/plain": [
       "<matplotlib.legend.Legend at 0x7f7df7c87150>"
      ]
     },
     "execution_count": 24,
     "metadata": {},
     "output_type": "execute_result"
    }
   ],
   "source": [
    "times = np.squeeze(times)\n",
    "cmoments = np.squeeze(cmoments)\n",
    "dxp1 = np.squeeze(delta_xp_mb)\n",
    "dxp2 = np.squeeze(delta_xp_sb)\n",
    "dxp3 = np.squeeze(delta_xp_np)\n",
    "\n",
    "t0 = np.concatenate((times-times[-1], (times-times[0])[1:]))\n",
    "to_z = beta*c\n",
    "\n",
    "col = sns.color_palette('cubehelix', 3, 0.8)\n",
    "fig, (ax1, ax2, ax3) = plt.subplots(3, figsize=(16,10), sharex=True)\n",
    "\n",
    "ax1.plot(t0*to_z, wakefunction(t0)[::-1]/max(wakefunction(t0)[::-1]))\n",
    "ax1.plot((times-times[-1])*to_z, cmoments/max(cmoments))\n",
    "ax1.set_ylim((-1.1, 1.1))\n",
    "ax1.legend(['Wake', 'Bunch'], loc=0)\n",
    "ax1.set_xlim(-66, 6)\n",
    "\n",
    "ax2.plot((times-times[-1])*to_z, dxp1/max(dxp1))\n",
    "ax2.plot((times-times[-1])*to_z, dxp2/max(dxp2))\n",
    "ax2.plot((times-times[-1])*to_z, -dxp3/max(-dxp3))\n",
    "ax2.legend(['PyHEADTAIL MB', 'PyHEADTAIL SB', 'Notebook manual'], loc=0)\n",
    "\n",
    "ax3.plot((times-times[-1])*to_z, 2*cmoments/max(cmoments))\n",
    "ax3.plot((times-times[-1])*to_z, dxp1/max(dxp1))\n",
    "ax3.legend(['Wake', 'Wake kick'])\n",
    "\n",
    "    \n",
    "k = times_pyht.shape[0]-1\n",
    "scale = 1\n",
    "if k>1:\n",
    "    k=1\n",
    "if k==0:\n",
    "#     ax3.set_xlim((-6, 3))\n",
    "    scale = max(dxp1[-500:])/max(dxp1)\n",
    "if k==1:\n",
    "#     ax3.set_xlim((-66, -57))\n",
    "    scale = 1\n",
    "\n",
    "for i in range(3):\n",
    "    ax3.plot((times_pyht[k,i,:]-ages_pyht[k]-times[-1]-dt[i])*to_z,\n",
    "             2*moments_pyht[0,i,:]/1./max(moments_pyht[0,2,:]), '--',\n",
    "             c=col[i], label='PyHEADTAIL, bunch# {:d}'.format(i+1))\n",
    "    ax3.plot((times_pyht[k,i,:]-ages_pyht[k]-times[-1]-dt[i])*to_z,\n",
    "             dxp_pyht[i]/max(dxp_pyht[2]) * scale, lw=3,\n",
    "             c=col[i])\n",
    "\n",
    "fig.suptitle(\"Resulting individual wake kicks after {:d} turn(s)\".format(k+1), fontsize=22)\n",
    "ax3.set_ylim(-2.1, 2.1)\n",
    "ax3.set_xlabel(r'$z$ [m]', fontsize=22)\n",
    "ax3.legend(loc=0)"
   ]
  },
  {
   "cell_type": "code",
   "execution_count": 0,
   "metadata": {
    "autoscroll": "json-false",
    "collapsed": false,
    "ein.tags": [
     "worksheet-0"
    ]
   },
   "outputs": [],
   "source": [
    "plt.close('all')"
   ]
  }
 ],
 "metadata": {
  "kernelspec": {
   "display_name": "Python 2",
   "language": "python",
   "name": "python2"
  },
  "language_info": {
   "codemirror_mode": {
    "name": "ipython",
    "version": 2
   },
   "file_extension": ".py",
   "mimetype": "text/x-python",
   "name": "python",
   "nbconvert_exporter": "python",
   "pygments_lexer": "ipython2",
   "version": "2.7.9"
  },
  "name": "002f_PyHT_multibunch_multiturn_test.ipynb"
 },
 "nbformat": 4,
 "nbformat_minor": 0
}
