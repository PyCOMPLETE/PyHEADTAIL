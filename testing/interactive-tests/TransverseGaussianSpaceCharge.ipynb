{
 "cells": [
  {
   "cell_type": "code",
   "execution_count": 1,
   "metadata": {
    "collapsed": false
   },
   "outputs": [
    {
     "name": "stdout",
     "output_type": "stream",
     "text": [
      "PyHEADTAIL v1.6.0.108\n",
      "\n",
      "\n"
     ]
    }
   ],
   "source": [
    "import sys, os\n",
    "BIN = os.path.abspath(\"../../..\")\n",
    "sys.path.append(BIN)\n",
    "\n",
    "from scipy.special import erfc, wofz\n",
    "\n",
    "import numpy as np\n",
    "from scipy.constants import m_p, c, e, epsilon_0, pi\n",
    "\n",
    "# optionally: GPU functionality\n",
    "try:\n",
    "    import pycuda.autoinit\n",
    "except:\n",
    "    pass\n",
    "\n",
    "import PyHEADTAIL.spacecharge.spacecharge as sc\n",
    "from PyHEADTAIL.particles.particles import Particles\n",
    "from PyHEADTAIL.particles import generators, slicing\n",
    "from PyHEADTAIL.spacecharge.spacecharge import TransverseGaussianSpaceCharge\n",
    "\n",
    "%matplotlib inline\n",
    "import matplotlib.pyplot as plt\n",
    "\n",
    "np.random.seed(0)"
   ]
  },
  {
   "cell_type": "code",
   "execution_count": 2,
   "metadata": {
    "collapsed": false
   },
   "outputs": [],
   "source": [
    "# general simulation parameters\n",
    "n_turns = 20000\n",
    "n_particles = 10000\n",
    "n_segments = 1\n",
    "\n",
    "# machine parameters\n",
    "circumference = 157.\n",
    "inj_alpha_x = 0\n",
    "inj_alpha_y = 0\n",
    "inj_beta_x = 6.3 # in [m]\n",
    "inj_beta_y = 5.7 # in [m]\n",
    "Qx = 5.1\n",
    "Qy = 6.1\n",
    "gamma_tr = 4.05\n",
    "alpha_c_array = [gamma_tr**-2]\n",
    "V_rf = 8e3 # in [V]\n",
    "harmonic = 1\n",
    "phi_offset = 0 # measured from aligned focussing phase (0 or pi)\n",
    "pipe_radius = 5e-2\n",
    "\n",
    "# beam parameters\n",
    "Ekin = 1.4e9 # in [eV]\n",
    "intensity = 1.684e12\n",
    "epsn_x = 2.5e-6 # in [m*rad]\n",
    "epsn_y = 2.5e-6 # in [m*rad]\n",
    "epsn_z = 1.2 # 4pi*sig_z*sig_dp (*p0/e) in [eVs]\n",
    "\n",
    "# calculations\n",
    "gamma = 1 + e * Ekin / (m_p * c**2)\n",
    "beta = np.sqrt(1 - gamma**-2)\n",
    "eta = alpha_c_array[0] - gamma**-2\n",
    "if eta < 0:\n",
    "    phi_offset = np.pi - phi_offset\n",
    "Etot = gamma * m_p * c**2 / e\n",
    "p0 = np.sqrt(gamma**2 - 1) * m_p * c\n",
    "Qs = np.sqrt(np.abs(eta) * V_rf / (2 * np.pi * beta**2 * Etot))\n",
    "beta_z = np.abs(eta) * circumference / (2 * np.pi * Qs)\n",
    "turn_period = circumference / (beta * c)\n",
    "\n",
    "# BETATRON\n",
    "# Loop on number of segments and create the TransverseSegmentMap\n",
    "# for each segment.\n",
    "s = np.arange(0, n_segments + 1) * circumference / n_segments\n",
    "alpha_x = inj_alpha_x * np.ones(n_segments)\n",
    "beta_x  = inj_beta_x * np.ones(n_segments)\n",
    "D_x     = np.zeros(n_segments)\n",
    "alpha_y = inj_alpha_y * np.ones(n_segments)\n",
    "beta_y  = inj_beta_y * np.ones(n_segments)\n",
    "D_y     = np.zeros(n_segments)"
   ]
  },
  {
   "cell_type": "code",
   "execution_count": 3,
   "metadata": {
    "collapsed": false
   },
   "outputs": [],
   "source": [
    "bunch = generators.generate_Gaussian6DTwiss( \n",
    "    # implicitly tests Gaussian and Gaussian2DTwiss as well\n",
    "    n_particles, intensity, e, m_p, circumference, gamma,\n",
    "    inj_alpha_x, inj_alpha_y,\n",
    "    inj_beta_x, inj_beta_y, beta_z,\n",
    "    epsn_x, epsn_y, epsn_z,\n",
    "    )\n",
    "slicer = slicing.UniformBinSlicer(20, n_sigma_z=4)\n",
    "besc = TransverseGaussianSpaceCharge(slicer, circumference)"
   ]
  },
  {
   "cell_type": "code",
   "execution_count": 4,
   "metadata": {
    "collapsed": false
   },
   "outputs": [],
   "source": [
    "slices = bunch.get_slices(slicer, statistics=[\"mean_x\", \"mean_y\", \"sigma_x\", \"sigma_y\"])"
   ]
  },
  {
   "cell_type": "code",
   "execution_count": 5,
   "metadata": {
    "collapsed": false
   },
   "outputs": [
    {
     "data": {
      "image/png": "[encoded data removed]",
      "text/plain": [
       "<matplotlib.figure.Figure at 0x7fe9ed182f50>"
      ]
     },
     "metadata": {},
     "output_type": "display_data"
    }
   ],
   "source": [
    "xp0 = bunch.xp.copy()\n",
    "yp0 = bunch.yp.copy()\n",
    "plt.scatter(bunch.x, xp0)\n",
    "plt.show()"
   ]
  },
  {
   "cell_type": "code",
   "execution_count": 6,
   "metadata": {
    "collapsed": false
   },
   "outputs": [
    {
     "name": "stdout",
     "output_type": "stream",
     "text": [
      "0.00259419344878 0.0024917889254\n"
     ]
    }
   ],
   "source": [
    "print bunch.sigma_x(), bunch.sigma_y()"
   ]
  },
  {
   "cell_type": "code",
   "execution_count": 7,
   "metadata": {
    "collapsed": false
   },
   "outputs": [
    {
     "data": {
      "text/plain": [
       "[<matplotlib.lines.Line2D at 0x7fe9b2c55a10>]"
      ]
     },
     "execution_count": 7,
     "metadata": {},
     "output_type": "execute_result"
    },
    {
     "data": {
      "image/png": "[encoded data removed]",
      "text/plain": [
       "<matplotlib.figure.Figure at 0x7fe9b2c9b4d0>"
      ]
     },
     "metadata": {},
     "output_type": "display_data"
    }
   ],
   "source": [
    "plt.plot(slices.lambda_bins(smoothen=False))"
   ]
  },
  {
   "cell_type": "code",
   "execution_count": 8,
   "metadata": {
    "collapsed": false
   },
   "outputs": [],
   "source": [
    "besc.track(bunch)\n",
    "xp1 = bunch.xp\n",
    "yp1 = bunch.yp"
   ]
  },
  {
   "cell_type": "code",
   "execution_count": 9,
   "metadata": {
    "collapsed": false
   },
   "outputs": [
    {
     "data": {
      "image/png": "[encoded data removed]",
      "text/plain": [
       "<matplotlib.figure.Figure at 0x7fe9b2c05710>"
      ]
     },
     "metadata": {},
     "output_type": "display_data"
    }
   ],
   "source": [
    "plt.scatter(bunch.x, xp1)\n",
    "plt.show()"
   ]
  },
  {
   "cell_type": "code",
   "execution_count": 27,
   "metadata": {
    "collapsed": false
   },
   "outputs": [
    {
     "data": {
      "image/png": "[encoded data removed]",
      "text/plain": [
       "<matplotlib.figure.Figure at 0x7fe9b2a69cd0>"
      ]
     },
     "metadata": {},
     "output_type": "display_data"
    }
   ],
   "source": [
    "x = np.arange(-2e-5, 2e-5, 1e-10)\n",
    "y = np.zeros(len(x))\n",
    "sig_x = 1.2e-6\n",
    "sig_y = 1e-6\n",
    "\n",
    "plt.plot(x, besc._efieldn_mit(x, y, sig_x, sig_y)[0])\n",
    "plt.plot(x, besc._efieldn_mitmod(x, y, sig_x, sig_y)[0])\n",
    "try:\n",
    "    plt.plot(x, besc._efieldn_koelbig(x, y, sig_x, sig_y)[0])\n",
    "    plt.plot(x, besc._efieldn_pyecloud(x, y, sig_x, sig_y)[0])\n",
    "except ImportError:\n",
    "    pass\n",
    "plt.xlim(x[0]*1.1, x[-1]*1.1)\n",
    "plt.show()"
   ]
  },
  {
   "cell_type": "code",
   "execution_count": 28,
   "metadata": {
    "collapsed": false
   },
   "outputs": [
    {
     "name": "stdout",
     "output_type": "stream",
     "text": [
      "10 loops, best of 3: 95.6 ms per loop\n"
     ]
    }
   ],
   "source": [
    "%timeit besc._efieldn_mit(x, y, sig_x, sig_y)"
   ]
  },
  {
   "cell_type": "code",
   "execution_count": 29,
   "metadata": {
    "collapsed": false
   },
   "outputs": [
    {
     "name": "stdout",
     "output_type": "stream",
     "text": [
      "10 loops, best of 3: 153 ms per loop\n"
     ]
    }
   ],
   "source": [
    "%timeit besc._efieldn_mitmod(x, y, sig_x, sig_y)"
   ]
  },
  {
   "cell_type": "code",
   "execution_count": 30,
   "metadata": {
    "collapsed": false
   },
   "outputs": [
    {
     "name": "stdout",
     "output_type": "stream",
     "text": [
      "1 loops, best of 3: 818 ms per loop\n"
     ]
    }
   ],
   "source": [
    "%timeit besc._efieldn_koelbig(x, y, sig_x, sig_y)"
   ]
  },
  {
   "cell_type": "code",
   "execution_count": 31,
   "metadata": {
    "collapsed": false
   },
   "outputs": [
    {
     "name": "stdout",
     "output_type": "stream",
     "text": [
      "1 loops, best of 3: 1.13 s per loop\n"
     ]
    }
   ],
   "source": [
    "%timeit besc._efieldn_pyecloud(x, y, sig_x, sig_y)"
   ]
  },
  {
   "cell_type": "code",
   "execution_count": 15,
   "metadata": {
    "collapsed": false
   },
   "outputs": [
    {
     "data": {
      "image/png": "[encoded data removed]",
      "text/plain": [
       "<matplotlib.figure.Figure at 0x7fe9b2bd3fd0>"
      ]
     },
     "metadata": {},
     "output_type": "display_data"
    }
   ],
   "source": [
    "eround_x, _ = besc.get_efieldn(x, y, 0, 0, sig_x, sig_x)\n",
    "en_x, _ = besc.get_efieldn(x, y, 0, 0, sig_x, sig_x+1e-10)\n",
    "plt.plot(x, eround_x)\n",
    "plt.plot(x, en_x)\n",
    "plt.show()"
   ]
  },
  {
   "cell_type": "markdown",
   "metadata": {
    "collapsed": false
   },
   "source": [
    "# GPU version"
   ]
  },
  {
   "cell_type": "code",
   "execution_count": 16,
   "metadata": {
    "collapsed": true
   },
   "outputs": [],
   "source": [
    "from PyHEADTAIL.general.contextmanager import GPU"
   ]
  },
  {
   "cell_type": "code",
   "execution_count": 34,
   "metadata": {
    "collapsed": false
   },
   "outputs": [
    {
     "name": "stdout",
     "output_type": "stream",
     "text": [
      "10 loops, best of 3: 90.9 ms per loop\n"
     ]
    }
   ],
   "source": [
    "with GPU(bunch) as device:\n",
    "    %timeit besc._efieldn_mit(x, y, sig_x, sig_y)\n",
    "    gpu_result_x, gpu_result_y = besc._efieldn_mit(x, y, sig_x, sig_y)"
   ]
  },
  {
   "cell_type": "code",
   "execution_count": 36,
   "metadata": {
    "collapsed": false
   },
   "outputs": [
    {
     "name": "stdout",
     "output_type": "stream",
     "text": [
      "True\n",
      "True\n"
     ]
    }
   ],
   "source": [
    "cpu_result_x, cpu_result_y = besc._efieldn_mit(x, y, sig_x, sig_y)\n",
    "print (np.allclose(gpu_result_x, cpu_result_x))\n",
    "print (np.allclose(gpu_result_y, cpu_result_y))"
   ]
  }
 ],
 "metadata": {
  "kernelspec": {
   "display_name": "Python 2",
   "language": "python",
   "name": "python2"
  },
  "language_info": {
   "codemirror_mode": {
    "name": "ipython",
    "version": 2
   },
   "file_extension": ".py",
   "mimetype": "text/x-python",
   "name": "python",
   "nbconvert_exporter": "python",
   "pygments_lexer": "ipython2",
   "version": "2.7.11"
  }
 },
 "nbformat": 4,
 "nbformat_minor": 0
}
