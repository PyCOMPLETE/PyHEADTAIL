{
 "cells": [
  {
   "cell_type": "code",
   "execution_count": 1,
   "metadata": {
    "collapsed": false
   },
   "outputs": [],
   "source": [
    "import sys, os\n",
    "BIN = os.path.expanduser(\"../../../\")\n",
    "sys.path.append(BIN)"
   ]
  },
  {
   "cell_type": "code",
   "execution_count": 2,
   "metadata": {
    "collapsed": false
   },
   "outputs": [
    {
     "name": "stdout",
     "output_type": "stream",
     "text": [
      "PyHEADTAIL v1.6.0-1-gb6824eb4bd-dirty\n",
      "\n",
      "\n"
     ]
    }
   ],
   "source": [
    "import numpy as np\n",
    "from scipy.constants import m_p, c, e\n",
    "import matplotlib.pyplot as plt\n",
    "\n",
    "from PyHEADTAIL.trackers.transverse_tracking import TransverseMap\n",
    "from PyHEADTAIL.impedances.wakes import WakeField, WakeTable, Resonator, CircularResonator, ParallelPlatesResonator\n",
    "from PyHEADTAIL.impedances.wakes import ResistiveWall, CircularResistiveWall, ParallelPlatesResistiveWall\n",
    "from PyHEADTAIL.trackers.longitudinal_tracking import LinearMap\n",
    "from PyHEADTAIL.particles.particles import Particles\n",
    "import PyHEADTAIL.particles.generators as generators\n",
    "from PyHEADTAIL.particles.slicing import UniformBinSlicer, UniformChargeSlicer\n",
    "from PyHEADTAIL.general.printers import SilentPrinter"
   ]
  },
  {
   "cell_type": "code",
   "execution_count": 3,
   "metadata": {
    "collapsed": false
   },
   "outputs": [],
   "source": [
    "# HELPERS\n",
    "def plot_data(sigma_z, mean, Q, Qs):\n",
    "    fig = plt.figure(figsize=(16, 16))\n",
    "    ax1 = fig.add_subplot(311)\n",
    "    ax2 = fig.add_subplot(312)\n",
    "    ax3 = fig.add_subplot(313)\n",
    "\n",
    "    ax1.plot(mean, '-', c='b')\n",
    "    #ax1.plot(mean_y, '-', c='r')\n",
    "    ax1.set_xlabel('turns')\n",
    "    ax1.set_ylabel('mean [m]')\n",
    "\n",
    "    ax2.plot(sigma_z, '-', c='b')\n",
    "    ax2.set_xlabel('turns')\n",
    "    ax2.set_ylabel('sigma_z [m]')\n",
    "\n",
    "    fr_x, ax_x = my_fft(mean)\n",
    "    markerline, stemlines, baseline = ax3.stem(fr_x, ax_x, label=r'bunch spectrum')\n",
    "    plt.setp(baseline, 'color','b', 'linewidth', 2)\n",
    "    ax3.axvline(Q%1, color='r', label='transverse main tune')\n",
    "    ax3.axvline(Q%1 - Qs, color='g', linestyle='dashed', label=r'1st synchrotron sidebands')\n",
    "    ax3.axvline(Q%1 + Qs, color='g', linestyle='dashed')\n",
    "    handles, labels = ax3.get_legend_handles_labels()\n",
    "    ax3.legend(handles, labels, loc='upper left')\n",
    "    ax3.set_xlabel('tune')\n",
    "    ax3.set_ylabel('amplitude')\n",
    "    ax3.set_xlim((0.25, 0.32))\n",
    "\n",
    "    plt.show()\n",
    "    \n",
    "def track_n_save(bunch, map_):\n",
    "    mean_x = np.empty(n_turns)\n",
    "    mean_y = np.empty(n_turns)\n",
    "    sigma_z = np.empty(n_turns)\n",
    "    \n",
    "    for i in xrange(n_turns):\n",
    "        mean_x[i] = bunch.mean_x()\n",
    "        mean_y[i] = bunch.mean_y()\n",
    "        sigma_z[i] = bunch.sigma_z()\n",
    "\n",
    "        for m_ in map_:\n",
    "            m_.track(bunch)\n",
    "\n",
    "    return mean_x, mean_y, sigma_z\n",
    "\n",
    "def my_fft(data):\n",
    "    t = np.arange(len(data))\n",
    "    fft = np.fft.rfft(data)\n",
    "    fft_freq = np.fft.rfftfreq(t.shape[-1])\n",
    "    \n",
    "    return fft_freq, np.abs(fft.real)\n",
    "\n",
    "def generate_bunch(n_macroparticles, alpha_x, alpha_y, beta_x, beta_y, linear_map):\n",
    "    \n",
    "    intensity = 1.05e11\n",
    "    sigma_z = 0.059958\n",
    "    gamma = 3730.26\n",
    "    p0 = np.sqrt(gamma**2 - 1) * m_p * c\n",
    "\n",
    "    beta_z = (linear_map.eta(dp=0, gamma=gamma) * linear_map.circumference / \n",
    "              (2 * np.pi * linear_map.Qs))\n",
    "\n",
    "    epsn_x = 3.75e-6 # [m rad]\n",
    "    epsn_y = 3.75e-6 # [m rad]\n",
    "    epsn_z = 4 * np.pi * sigma_z**2 * p0 / (beta_z * e)\n",
    "    \n",
    "    bunch = generators.generate_Gaussian6DTwiss(\n",
    "        macroparticlenumber=n_macroparticles, intensity=intensity, charge=e,\n",
    "        gamma=gamma, mass=m_p, circumference=C,\n",
    "        alpha_x=alpha_x, beta_x=beta_x, epsn_x=epsn_x,\n",
    "        alpha_y=alpha_y, beta_y=beta_y, epsn_y=epsn_y,\n",
    "        beta_z=beta_z, epsn_z=epsn_z)\n",
    "    # print ('bunch sigma_z=' + bunch.sigma_z())\n",
    "    \n",
    "    return bunch\n",
    "\n",
    "def track_n_show(bunch, slicer, map_woWakes, wake_field):\n",
    "    fig, ((ax1, ax2)) = plt.subplots(2, 1, figsize=(16,16))\n",
    "\n",
    "    xp_diff  = np.zeros(n_macroparticles)\n",
    "\n",
    "    for i in xrange(n_turns):\n",
    "        for m_ in map_woWakes:\n",
    "            m_.track(bunch)\n",
    "\n",
    "        # Dipole X kick.\n",
    "        if i == (n_turns - 1):\n",
    "            xp_old = bunch.xp.copy()\n",
    "        wake_field.track(bunch)\n",
    "\n",
    "        if i == (n_turns - 1):\n",
    "            xp_diff[:] = bunch.xp[:] - xp_old[:]\n",
    "\n",
    "    # Plot bunch.z vs. slice index of particle. Mark particles within\n",
    "    # z cuts in green.\n",
    "    nsigmaz_lbl = ' (nsigmaz =' + str(n_sigma_z) + ')'\n",
    "\n",
    "    slice_set = bunch.get_slices(slicer)\n",
    "    pidx = slice_set.particles_within_cuts\n",
    "    slidx = slice_set.slice_index_of_particle\n",
    "\n",
    "    z_cut_tail, z_cut_head = slice_set.z_cut_tail, slice_set.z_cut_head\n",
    "    \n",
    "    ax1.plot(slidx, bunch.z, '.r', ms=10, label='all particles')\n",
    "    ax1.plot(slidx.take(pidx), bunch.z.take(pidx), '.g', label='particles within z cuts')\n",
    "    ax1.axhline(z_cut_tail, color='m', linestyle='dashed', label='slicer boundaries')\n",
    "    ax1.axhline(z_cut_head, color='m', linestyle='dashed')\n",
    "    ax1.axvline(0, color='b', linestyle='dashed', label='first and last slices')\n",
    "    ax1.axvline(slice_set.n_slices-1, color='b', linestyle='dashed')\n",
    "    [ ax1.axhline(z, color='m', linestyle='dashed') for z in slice_set.z_bins ]\n",
    "    ax1.legend(loc='upper left')\n",
    "\n",
    "    # Show dipole and qudrupole kicks applied for each particle for the\n",
    "    # last turn.\n",
    "    #ax13.plot(slidx, xp_diff_quad, '.g', ms=10, label='quad x kicks')\n",
    "    ax2.plot(slidx, xp_diff, '.r', label='x kicks')\n",
    "    ax2.axvline(0, color='b', linestyle='dashed', label='first and last slices')\n",
    "    ax2.axvline(n_slices-1, color='b', linestyle='dashed')\n",
    "    ax2.axhline(0, color='black', ls='dashed')\n",
    "    #ax13.axvline(0, color='b', linestyle='dashed', label='first and last slices' + nsigmaz_lbl)\n",
    "    #ax13.axvline(n_slices-1, color='b', linestyle='dashed')\n",
    "    ax2.legend(loc='lower right')\n",
    "    #ax13.legend(loc='lower right')\n",
    "\n",
    "    xmax = max(slidx)\n",
    "    xmax += 2\n",
    "    xmin = min(slidx)\n",
    "    xmin -= 2\n",
    "\n",
    "    ymax = max(xp_diff)\n",
    "    ymax += ymax*0.2\n",
    "    ymin = min(xp_diff)\n",
    "    ymin += ymin*0.2\n",
    "\n",
    "    ax1.set_xlim((xmin, xmax))\n",
    "    ax2.set_xlim((xmin, xmax))\n",
    "    #ax13.set_xlim((xmin, xmax))\n",
    "    \n",
    "    plt.show()\n",
    "    \n",
    "def show_sampled_wake(bunch, slicer, wake_table, wake_component):\n",
    "    slice_set = bunch.get_slices(slicer)\n",
    "        \n",
    "    fig, ax1 = plt.subplots(1, 1, figsize=(16,10))\n",
    "    \n",
    "    # Plot wake table and show where wake is sampled (values obtained from interp1d)\n",
    "    # for dipole and quadrupole X kicks.\n",
    "    ax1.plot(1e-9*wake_table.wake_table['time'][:-1], abs(1e15*wake_table.wake_table[wake_component][:-1]),\n",
    "              color='b')\n",
    "    #ax21.plot(wake_table.wake_table['time'][:-1], abs(wake_table.wake_table['quadrupole_x'][:-1]),\n",
    "    #          color='r', label='quadrupole x')\n",
    "\n",
    "    sampled_wake = wake_table.function_transverse(wake_component)\n",
    "    dt = np.concatenate((slice_set.convert_to_time(slice_set.z_centers) - \n",
    "                         slice_set.convert_to_time(slice_set.z_centers[-1]),\n",
    "                        (slice_set.convert_to_time(slice_set.z_centers) -\n",
    "                         slice_set.convert_to_time(slice_set.z_centers[0]))[1:]))\n",
    "\n",
    "    ax1.plot(abs(dt), abs(sampled_wake(dt)), '.g', ms=15,\n",
    "              label='sampled and interpolated wake')\n",
    "\n",
    "    slice_width = (slice_set.z_cut_head - slice_set.z_cut_tail) / slice_set.n_slices\n",
    "    dzz = np.arange(0, n_slices*slice_width, slice_width)\n",
    "    [ ax1.axvline(z / (bunch.beta * c), color='black', ls='dashed') for z in dzz[1:] ]\n",
    "    ax1.axvline(dzz[0] / (bunch.beta * c), color='black', ls='dashed', label='slice widths')\n",
    "\n",
    "    ax1.set_xscale('log')\n",
    "    ax1.set_yscale('log')\n",
    "    ax1.set_xlabel('time [s]')\n",
    "    ax1.set_ylabel('abs. wake strength [V/C/m]')\n",
    "    ax1.legend(loc='upper right')\n",
    "\n",
    "    ax1.set_xlim((1e-9*wake_table.wake_table['time'][0], 1e-9*wake_table.wake_table['time'][-2]))\n",
    "    \n",
    "    plt.show()"
   ]
  },
  {
   "cell_type": "code",
   "execution_count": 4,
   "metadata": {
    "collapsed": false
   },
   "outputs": [],
   "source": [
    "# Basic parameters.\n",
    "n_turns = 500\n",
    "n_segments = 1\n",
    "n_macroparticles = 500\n",
    "\n",
    "Q_x = 64.28\n",
    "Q_y = 59.31\n",
    "Q_s = 0.0020443\n",
    "\n",
    "C = 26658.883\n",
    "R = C / (2.*np.pi)\n",
    "\n",
    "alpha_x_inj = 0.\n",
    "alpha_y_inj = 0.\n",
    "beta_x_inj = 66.0064\n",
    "beta_y_inj = 71.5376\n",
    "alpha_0 = [0.0003225]"
   ]
  },
  {
   "cell_type": "code",
   "execution_count": 5,
   "metadata": {
    "collapsed": false
   },
   "outputs": [],
   "source": [
    "# Parameters for transverse map.\n",
    "s = np.arange(0, n_segments + 1) * C / n_segments\n",
    "\n",
    "alpha_x = alpha_x_inj * np.ones(n_segments)\n",
    "beta_x = beta_x_inj * np.ones(n_segments)\n",
    "D_x = np.zeros(n_segments)\n",
    "\n",
    "alpha_y = alpha_y_inj * np.ones(n_segments)\n",
    "beta_y = beta_y_inj * np.ones(n_segments)\n",
    "D_y = np.zeros(n_segments)"
   ]
  },
  {
   "cell_type": "code",
   "execution_count": 6,
   "metadata": {
    "collapsed": false
   },
   "outputs": [
    {
     "name": "stdout",
     "output_type": "stream",
     "text": [
      "test passed: the expected ValueError due to mismatched column contents vs column description occured.\n",
      "\n",
      "Error message:\n",
      "Length of wake_file_columns list does not correspond to the number of columns in the specified wake_file. \n",
      "\n"
     ]
    },
    {
     "name": "stderr",
     "output_type": "stream",
     "text": [
      "/home/giadarol/anaconda2/lib/python2.7/site-packages/ipykernel/__main__.py:12: DeprecationWarning: BaseException.message has been deprecated as of Python 2.6\n"
     ]
    }
   ],
   "source": [
    "# Error cases\n",
    "# (I) for WakeTable. Number of wake_file_columns does not correspond to that\n",
    "# of the wake_file.\n",
    "try:\n",
    "    wake_file_columns = ['time', 'dipole_x', 'dipole_y', 'quadrupole_x', 'quadrupole_y',\n",
    "                         'dipole_xy', 'dipole_yx', 'nonsense' ]\n",
    "    table = WakeTable('./wake_table.dat', wake_file_columns)\n",
    "    print ('test NOT passed. No error raised!')\n",
    "except ValueError as exc:\n",
    "    print ('test passed: the expected ValueError due to mismatched column contents ' +\n",
    "            'vs column description occured.\\n')\n",
    "    print ('Error message:\\n' + exc.message)"
   ]
  },
  {
   "cell_type": "code",
   "execution_count": 7,
   "metadata": {
    "collapsed": false
   },
   "outputs": [
    {
     "name": "stdout",
     "output_type": "stream",
     "text": [
      "test passed: the expected ValueError due to missing 'time' column occured.\n",
      " \n",
      "Error message:\n",
      "No wake_file_column with name 'time' has been specified. \n",
      "\n"
     ]
    },
    {
     "name": "stderr",
     "output_type": "stream",
     "text": [
      "/home/giadarol/anaconda2/lib/python2.7/site-packages/ipykernel/__main__.py:10: DeprecationWarning: BaseException.message has been deprecated as of Python 2.6\n"
     ]
    }
   ],
   "source": [
    "# Error cases\n",
    "# (II) for WakeTable. No wake_file_column 'time' defined.\n",
    "try:\n",
    "    wake_file_columns = ['nonsense', 'dipole_x', 'dipole_y', 'quadrupole_x', 'quadrupole_y',\n",
    "                         'dipole_xy', 'dipole_yx' ]\n",
    "    table = WakeTable('./wake_table.dat', wake_file_columns)\n",
    "    print ('test NOT passed. No error raised!')\n",
    "except ValueError as exc:\n",
    "    print ('test passed: the expected ValueError due to missing \\'time\\' column occured.\\n ')\n",
    "    print ('Error message:\\n' + exc.message)"
   ]
  },
  {
   "cell_type": "code",
   "execution_count": 8,
   "metadata": {
    "collapsed": false
   },
   "outputs": [],
   "source": [
    "# CASE TEST SETUP\n",
    "trans_map = TransverseMap(\n",
    "    s, alpha_x, beta_x, D_x, alpha_y, beta_y, D_y, Q_x, Q_y)\n",
    "long_map = LinearMap(alpha_0, C, Q_s)\n",
    "\n",
    "bunch = generate_bunch(\n",
    "    n_macroparticles, alpha_x_inj, alpha_y_inj, beta_x_inj, beta_y_inj,\n",
    "    long_map)"
   ]
  },
  {
   "cell_type": "code",
   "execution_count": null,
   "metadata": {
    "collapsed": false
   },
   "outputs": [],
   "source": [
    "# CASE I\n",
    "# Transverse and long. tracking (linear), and wakes from WakeTable source.\n",
    "# DIPOLE X, UniformBinSlicer\n",
    "\n",
    "n_sigma_z = 2\n",
    "n_slices = 15\n",
    "uniform_bin_slicer = UniformBinSlicer(n_slices=n_slices, n_sigma_z=n_sigma_z)\n",
    "\n",
    "# Definition of WakeField as a composition of different sources.\n",
    "wake_file_columns = ['time', 'dipole_x', 'no_dipole_y', 'no_quadrupole_x', 'no_quadrupole_y',\n",
    "                     'no_dipole_xy', 'no_dipole_yx']\n",
    "table = WakeTable('./wake_table.dat', wake_file_columns, \n",
    "                  warningprinter=SilentPrinter())\n",
    "wake_field = WakeField(uniform_bin_slicer, table)\n",
    "for i in wake_field.wake_kicks:\n",
    "    print i\n",
    "\n",
    "trans_map = [ m for m in trans_map ]\n",
    "map_woWakes = trans_map + [long_map]\n",
    "\n",
    "track_n_show(bunch, uniform_bin_slicer, map_woWakes, wake_field)\n",
    "show_sampled_wake(bunch, uniform_bin_slicer, table, wake_component='dipole_x')"
   ]
  },
  {
   "cell_type": "code",
   "execution_count": null,
   "metadata": {
    "collapsed": false
   },
   "outputs": [],
   "source": [
    "# CASE II\n",
    "# Transverse and long. tracking (linear), and wakes from WakeTable source.\n",
    "# DIPOLE X, UniformChargeSlicer\n",
    "\n",
    "n_sigma_z = 2\n",
    "n_slices = 15\n",
    "uniform_charge_slicer = UniformChargeSlicer(n_slices=n_slices, n_sigma_z=n_sigma_z)\n",
    "\n",
    "# Definition of WakeField as a composition of different sources.\n",
    "wake_file_columns = ['time', 'dipole_x', 'no_dipole_y', 'no_quadrupole_x', 'no_quadrupole_y',\n",
    "                     'no_dipole_xy', 'no_dipole_yx']\n",
    "table = WakeTable('./wake_table.dat', wake_file_columns, \n",
    "                  warningprinter=SilentPrinter())\n",
    "wake_field = WakeField(uniform_charge_slicer, table)\n",
    "for i in wake_field.wake_kicks:\n",
    "    print i\n",
    "\n",
    "trans_map = [ m for m in trans_map ]\n",
    "map_woWakes = trans_map + [long_map]\n",
    "\n",
    "track_n_show(bunch, uniform_charge_slicer, map_woWakes, wake_field)\n",
    "show_sampled_wake(bunch, uniform_charge_slicer, table, wake_component='dipole_x')"
   ]
  },
  {
   "cell_type": "code",
   "execution_count": null,
   "metadata": {
    "collapsed": false
   },
   "outputs": [],
   "source": [
    "# CASE III\n",
    "# Transverse and long. tracking (linear), and wakes from WakeTable source.\n",
    "# Quadrupole X, UniformChargeSlicer\n",
    "\n",
    "n_sigma_z = 2\n",
    "n_slices = 15\n",
    "uniform_charge_slicer = UniformChargeSlicer(n_slices=n_slices, n_sigma_z=n_sigma_z)\n",
    "\n",
    "# Definition of WakeField as a composition of different sources.\n",
    "wake_file_columns = ['time', 'no_dipole_x', 'no_dipole_y', 'quadrupole_x', 'no_quadrupole_y',\n",
    "                     'no_dipole_xy', 'no_dipole_yx']\n",
    "table = WakeTable('./wake_table.dat', wake_file_columns,\n",
    "                  warningprinter=SilentPrinter())\n",
    "wake_field = WakeField(uniform_charge_slicer, table)\n",
    "for i in wake_field.wake_kicks:\n",
    "    print i\n",
    "\n",
    "trans_map = [ m for m in trans_map ]\n",
    "map_woWakes = trans_map + [long_map]\n",
    "\n",
    "track_n_show(bunch, uniform_charge_slicer, map_woWakes, wake_field)\n",
    "show_sampled_wake(bunch, uniform_charge_slicer, table, wake_component='quadrupole_x')"
   ]
  },
  {
   "cell_type": "code",
   "execution_count": null,
   "metadata": {
    "collapsed": false
   },
   "outputs": [],
   "source": [
    "# CASE IV\n",
    "# Transverse and long. tracking (linear), and wakes from WakeTable source.\n",
    "# Quadrupole X, UniformBinSlicer\n",
    "\n",
    "n_sigma_z = 2\n",
    "n_slices = 15\n",
    "uniform_bin_slicer = UniformBinSlicer(n_slices=n_slices, n_sigma_z=n_sigma_z)\n",
    "\n",
    "# Definition of WakeField as a composition of different sources.\n",
    "wake_file_columns = ['time', 'no_dipole_x', 'no_dipole_y', 'quadrupole_x', 'no_quadrupole_y',\n",
    "                     'no_dipole_xy', 'no_dipole_yx']\n",
    "table = WakeTable('./wake_table.dat', wake_file_columns,\n",
    "                  warningprinter=SilentPrinter())\n",
    "wake_field = WakeField(uniform_bin_slicer, table)\n",
    "for i in wake_field.wake_kicks:\n",
    "    print i\n",
    "\n",
    "trans_map = [ m for m in trans_map ]\n",
    "map_woWakes = trans_map + [long_map]\n",
    "\n",
    "track_n_show(bunch, uniform_bin_slicer, map_woWakes, wake_field)\n",
    "show_sampled_wake(bunch, uniform_bin_slicer, table, wake_component='quadrupole_x')"
   ]
  },
  {
   "cell_type": "code",
   "execution_count": null,
   "metadata": {
    "collapsed": false
   },
   "outputs": [],
   "source": [
    "# CASE V\n",
    "# Transverse and long. tracking (linear),\n",
    "# Resonator circular\n",
    "\n",
    "n_sigma_z = 2\n",
    "n_slices = 15\n",
    "uniform_bin_slicer = UniformBinSlicer(n_slices=n_slices, n_sigma_z=n_sigma_z)\n",
    "\n",
    "# Definition of WakeField as a composition of different sources.\n",
    "reson_circ = CircularResonator(R_shunt=1e6, frequency=1e8, Q=1)\n",
    "wake_field = WakeField(uniform_bin_slicer, reson_circ)\n",
    "for i in wake_field.wake_kicks:\n",
    "    print i\n",
    "\n",
    "trans_map = [ m for m in trans_map ]\n",
    "map_woWakes = trans_map + [long_map]\n",
    "\n",
    "track_n_show(bunch, uniform_bin_slicer, map_woWakes, wake_field)"
   ]
  },
  {
   "cell_type": "code",
   "execution_count": null,
   "metadata": {
    "collapsed": false
   },
   "outputs": [],
   "source": [
    "# CASE V b.\n",
    "# Transverse and long. tracking (linear),\n",
    "# Several Resonators circular\n",
    "\n",
    "n_sigma_z = 2\n",
    "n_slices = 15\n",
    "uniform_bin_slicer = UniformBinSlicer(n_slices=n_slices, n_sigma_z=n_sigma_z)\n",
    "\n",
    "# Definition of WakeField as a composition of different sources.\n",
    "reson_circ = CircularResonator(R_shunt=1e6, frequency=1e8, Q=1)\n",
    "reson_circ2 = CircularResonator(R_shunt=1e6, frequency=1e9, Q=0.8)\n",
    "reson_circ3 = CircularResonator(R_shunt=5e6, frequency=1e6, Q=0.2)\n",
    "\n",
    "wake_field = WakeField(uniform_bin_slicer, reson_circ, reson_circ2, reson_circ3)\n",
    "for i in wake_field.wake_kicks:\n",
    "    print i\n",
    "\n",
    "trans_map = [ m for m in trans_map ]\n",
    "map_woWakes = trans_map + [long_map]\n",
    "\n",
    "track_n_show(bunch, uniform_bin_slicer, map_woWakes, wake_field)"
   ]
  },
  {
   "cell_type": "code",
   "execution_count": null,
   "metadata": {
    "collapsed": false
   },
   "outputs": [],
   "source": [
    "# CASE V c.\n",
    "# Transverse and long. tracking (linear),\n",
    "# Resonator parallel_plates\n",
    "\n",
    "n_sigma_z = 2\n",
    "n_slices = 15\n",
    "uniform_bin_slicer = UniformBinSlicer(n_slices=n_slices, n_sigma_z=n_sigma_z)\n",
    "\n",
    "# Definition of WakeField as a composition of different sources.\n",
    "reson_para = ParallelPlatesResonator(R_shunt=1e6, frequency=1e8, Q=1)\n",
    "wake_field = WakeField(uniform_bin_slicer, reson_para)\n",
    "for i in wake_field.wake_kicks:\n",
    "    print i\n",
    "\n",
    "trans_map = [ m for m in trans_map ]\n",
    "map_woWakes = trans_map + [long_map]\n",
    "\n",
    "track_n_show(bunch, uniform_bin_slicer, map_woWakes, wake_field)"
   ]
  },
  {
   "cell_type": "code",
   "execution_count": null,
   "metadata": {
    "collapsed": false
   },
   "outputs": [],
   "source": [
    "# CASE V d.\n",
    "# Transverse and long. tracking (linear),\n",
    "# Resonator w. longitudinal wake\n",
    "\n",
    "n_sigma_z = 2\n",
    "n_slices = 15\n",
    "uniform_bin_slicer = UniformBinSlicer(n_slices=n_slices, n_sigma_z=n_sigma_z)\n",
    "\n",
    "# Definition of WakeField as a composition of different sources.\n",
    "reson = Resonator(R_shunt=1e6, frequency=1e8, Q=1, Yokoya_X1=1, Yokoya_X2=1, Yokoya_Y1=1, Yokoya_Y2=1, switch_Z=True)\n",
    "wake_field = WakeField(uniform_bin_slicer, reson)\n",
    "for i in wake_field.wake_kicks:\n",
    "    print i\n",
    "\n",
    "trans_map = [ m for m in trans_map ]\n",
    "map_woWakes = trans_map + [long_map]\n",
    "\n",
    "track_n_show(bunch, uniform_bin_slicer, map_woWakes, wake_field)"
   ]
  },
  {
   "cell_type": "code",
   "execution_count": null,
   "metadata": {
    "collapsed": false
   },
   "outputs": [],
   "source": [
    "# CASE VI\n",
    "# Transverse and long. tracking (linear),\n",
    "# ResistiveWall circular\n",
    "\n",
    "n_sigma_z = 2\n",
    "n_slices = 15\n",
    "uniform_bin_slicer = UniformBinSlicer(n_slices=n_slices, n_sigma_z=n_sigma_z)\n",
    "\n",
    "# Definition of WakeField as a composition of different sources.\n",
    "resis_circ = CircularResistiveWall(pipe_radius=5e-2, resistive_wall_length=C,\n",
    "                                    conductivity=1e6, dt_min=1e-3/c)\n",
    "wake_field = WakeField(uniform_bin_slicer, resis_circ)\n",
    "for i in wake_field.wake_kicks:\n",
    "    print i\n",
    "\n",
    "trans_map = [ m for m in trans_map ]\n",
    "map_woWakes = trans_map + [long_map]\n",
    "\n",
    "track_n_show(bunch, uniform_bin_slicer, map_woWakes, wake_field)"
   ]
  },
  {
   "cell_type": "code",
   "execution_count": null,
   "metadata": {
    "collapsed": false
   },
   "outputs": [],
   "source": [
    "# CASE VI b.\n",
    "# Transverse and long. tracking (linear),\n",
    "# ResistiveWall parallel_plates\n",
    "\n",
    "n_sigma_z = 2\n",
    "n_slices = 15\n",
    "uniform_bin_slicer = UniformBinSlicer(n_slices=n_slices, n_sigma_z=n_sigma_z)\n",
    "\n",
    "# Definition of WakeField as a composition of different sources.\n",
    "resis_para = ParallelPlatesResistiveWall(pipe_radius=5e-2, resistive_wall_length=C,\n",
    "                                    conductivity=1e6, dt_min=1e-3/c)\n",
    "wake_field = WakeField(uniform_bin_slicer, resis_para)\n",
    "for i in wake_field.wake_kicks:\n",
    "    print i\n",
    "\n",
    "trans_map = [ m for m in trans_map ]\n",
    "map_woWakes = trans_map + [long_map]\n",
    "\n",
    "track_n_show(bunch, uniform_bin_slicer, map_woWakes, wake_field)"
   ]
  },
  {
   "cell_type": "code",
   "execution_count": null,
   "metadata": {
    "collapsed": false
   },
   "outputs": [],
   "source": [
    "# CASE VII.\n",
    "# Transverse and long. tracking (linear),\n",
    "# Pass mixture of WakeSources to define WakeField.\n",
    "\n",
    "n_sigma_z = 2\n",
    "n_slices = 15\n",
    "uniform_bin_slicer = UniformBinSlicer(n_slices=n_slices, n_sigma_z=n_sigma_z)\n",
    "\n",
    "# Definition of WakeField as a composition of different sources.\n",
    "resis_circ = CircularResistiveWall(pipe_radius=5e-2, resistive_wall_length=C,\n",
    "                                    conductivity=1e6, dt_min=1e-3/c)\n",
    "reson_para = ParallelPlatesResonator(R_shunt=1e6, frequency=1e8, Q=1)\n",
    "wake_file_columns = ['time', 'dipole_x', 'dipole_y', 'quadrupole_x', 'quadrupole_y',\n",
    "                     'dipole_xy', 'dipole_yx']\n",
    "table = WakeTable('./wake_table.dat', wake_file_columns,\n",
    "                  warningprinter=SilentPrinter())\n",
    "\n",
    "wake_field = WakeField(uniform_bin_slicer, resis_circ, reson_para, table)\n",
    "for i in wake_field.wake_kicks:\n",
    "    print i\n",
    "\n",
    "trans_map = [ m for m in trans_map ]\n",
    "map_woWakes = trans_map + [long_map]\n",
    "\n",
    "track_n_show(bunch, uniform_bin_slicer, map_woWakes, wake_field)"
   ]
  },
  {
   "cell_type": "code",
   "execution_count": null,
   "metadata": {
    "collapsed": true
   },
   "outputs": [],
   "source": []
  }
 ],
 "metadata": {
  "kernelspec": {
   "display_name": "Python 2",
   "language": "python",
   "name": "python2"
  },
  "language_info": {
   "codemirror_mode": {
    "name": "ipython",
    "version": 2
   },
   "file_extension": ".py",
   "mimetype": "text/x-python",
   "name": "python",
   "nbconvert_exporter": "python",
   "pygments_lexer": "ipython2",
   "version": "2.7.11"
  }
 },
 "nbformat": 4,
 "nbformat_minor": 0
}
