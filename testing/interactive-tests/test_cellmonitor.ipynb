{
 "cells": [
  {
   "cell_type": "code",
   "execution_count": 1,
   "metadata": {
    "collapsed": true
   },
   "outputs": [],
   "source": [
    "import h5py\n",
    "import numpy as np\n",
    "import matplotlib.pyplot as plt\n",
    "from scipy.constants import m_p, c, e\n",
    "\n",
    "plt.rcParams['image.cmap'] = 'viridis'"
   ]
  },
  {
   "cell_type": "code",
   "execution_count": 2,
   "metadata": {
    "collapsed": false
   },
   "outputs": [],
   "source": [
    "# READ DATA\n",
    "# =========\n",
    "path = './cell_mon.h5'\n",
    "# path = './cellmonitor2_0001_config_200.h5'\n",
    "# path = './cellmonitor1_0002_config_400.h5'\n",
    "# path = './cellmonitor2_0002_config_400.h5'\n",
    "hf = h5py.File(path, 'r')\n",
    "ha = hf['Cells']\n",
    "n_azim_slices, n_rings, n_turns = ha['macroparticlenumber'].shape\n",
    "radial_cut = hf.attrs.get('radual_cut')\n",
    "beta_x = hf.attrs.get('beta_x')\n",
    "beta_y = hf.attrs.get('beta_y')\n",
    "beta_z = hf.attrs.get('beta_z')"
   ]
  },
  {
   "cell_type": "code",
   "execution_count": 4,
   "metadata": {
    "collapsed": false
   },
   "outputs": [
    {
     "name": "stderr",
     "output_type": "stream",
     "text": [
      "/usr/lib/python2.7/site-packages/ipykernel/__main__.py:40: RuntimeWarning: divide by zero encountered in log10\n",
      "/usr/lib/python2.7/site-packages/ipykernel/__main__.py:41: RuntimeWarning: divide by zero encountered in log10\n",
      "/usr/lib64/python2.7/site-packages/matplotlib/backend_bases.py:2437: MatplotlibDeprecationWarning: Using default event loop until function specific to this GUI is implemented\n",
      "  warnings.warn(str, mplDeprecation)\n"
     ]
    }
   ],
   "source": [
    "plt.close('all')\n",
    "# ANIMATION\n",
    "# =========\n",
    "fig, ((ax1, ax2), (ax3, ax4)) = plt.subplots(2, 2, figsize=(15,13), tight_layout=False,\n",
    "                                    subplot_kw=dict(projection='polar'))\n",
    "fig.subplots_adjust(hspace=0.3)\n",
    "\n",
    "theta = np.linspace(-np.pi, np.pi, n_azim_slices)\n",
    "r     = np.linspace(0, radial_cut, n_rings)\n",
    "theta, r = np.meshgrid(theta, r)\n",
    "\n",
    "var_Jx = ha['mean_x'][:,:,:]**2 #+ (beta_x*ha['mean_xp'][:,:,:])**2\n",
    "var_Jy = ha['mean_y'][:,:,:]**2 #+ (beta_y*ha['mean_yp'][:,:,:])**2\n",
    "vmax_x = np.max(10*np.log10(var_Jx.T + 1e-12))\n",
    "vmax_y = np.max(10*np.log10(var_Jy.T + 1e-12))\n",
    "x_levels = sorted(np.linspace(0.45, 1, 60) * vmax_x)\n",
    "y_levels = sorted(np.linspace(0.45, 1, 60) * vmax_y)\n",
    "\n",
    "plt.ion()\n",
    "imovie = 0\n",
    "for i in xrange(0, n_turns, 128):\n",
    "    var_z = ha['mean_z'][:,:,i]\n",
    "    var_dp = ha['mean_dp'][:,:,i]\n",
    "    var_Jz = ha['mean_z'][:,:,i]**2 + (beta_z*ha['mean_dp'][:,:,i])**2\n",
    "    var_Jx = ha['mean_x'][:,:,i]**2 #+ (beta_x*ha['mean_xp'][:,:,i])**2\n",
    "    var_Jy = ha['mean_y'][:,:,i]**2 #+ (beta_y*ha['mean_yp'][:,:,i])**2\n",
    "\n",
    "#     print np.max(10*np.log10(var_Jx.T + 1e-12))\n",
    "#     print np.max(10*np.log10(var_Jy.T + 1e-12))\n",
    "\n",
    "    var_z = np.ma.masked_equal(var_z, 0)\n",
    "    var_dp = np.ma.masked_equal(var_dp, 0)\n",
    "    var_Jz = np.ma.masked_equal(var_Jz, 0)\n",
    "    var_Jx = np.ma.masked_equal(var_Jx, 0)\n",
    "    var_Jy = np.ma.masked_equal(var_Jy, 0)\n",
    "\n",
    "\n",
    "    ax1.contourf(theta, r, var_z.T, 60)\n",
    "    ax2.contourf(theta, r, var_dp.T, 60)\n",
    "    ax3.contourf(theta, r, 10*np.log10(var_Jx.T + 1e-10), levels=x_levels)\n",
    "    ax4.contourf(theta, r, 10*np.log10(var_Jy.T + 1e-10), levels=y_levels)\n",
    "#     ax3.contourf(theta, r, 10*np.log10(var_Jx.T + 1e-10), 60, vmin=vmax_x*0.15, vmax=vmax_x*0.5)\n",
    "#     ax4.contourf(theta, r, 10*np.log10(var_Jy.T + 1e-10), 60, vmin=vmax_y*0.15, vmax=vmax_y*0.5)\n",
    "    # ax3.contourf(theta, r, 10*(var_Jx.T + 1e-10)**3, 60)\n",
    "    # ax4.contourf(theta, r, 10*(var_Jy.T + 1e-10)**3, 60)\n",
    "\n",
    "    [ax.autoscale(tight=True) for ax in [ax1, ax2, ax3, ax4]]\n",
    "    [ax.autoscale(tight=True) for ax in [ax1, ax2, ax3, ax4]]\n",
    "    [ax.set_axis_bgcolor(plt.cm.viridis(0)) for ax in [ax1, ax2, ax3, ax4]]\n",
    "    ax1.set_title(r'$z$', y=1.1, fontsize=20)\n",
    "    ax2.set_title(r'$\\delta$', y=1.1, fontsize=20)\n",
    "    ax3.set_title(r'$\\mu_x$', y=1.1, fontsize=20)\n",
    "    ax4.set_title(r'$\\mu_{xp}$', y=1.1, fontsize=20)\n",
    "\n",
    "    plt.draw()\n",
    "    plt.pause(0.1)\n",
    "    [ax.cla() for ax in [ax1, ax2, ax3, ax4]]"
   ]
  },
  {
   "cell_type": "code",
   "execution_count": 6,
   "metadata": {
    "collapsed": true
   },
   "outputs": [],
   "source": [
    "plt.close('all')"
   ]
  }
 ],
 "metadata": {
  "kernelspec": {
   "display_name": "Python 2",
   "language": "python",
   "name": "python2"
  },
  "language_info": {
   "codemirror_mode": {
    "name": "ipython",
    "version": 2
   },
   "file_extension": ".py",
   "mimetype": "text/x-python",
   "name": "python",
   "nbconvert_exporter": "python",
   "pygments_lexer": "ipython2",
   "version": "2.7.9"
  }
 },
 "nbformat": 4,
 "nbformat_minor": 0
}
