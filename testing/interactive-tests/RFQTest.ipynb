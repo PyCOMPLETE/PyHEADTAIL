{
 "metadata": {
  "name": "",
  "signature": "sha256:c7f00047a53e2b1464971dd30162d69628c5b3b7b916abaa3b21e314f0ede725"
 },
 "nbformat": 3,
 "nbformat_minor": 0,
 "worksheets": [
  {
   "cells": [
    {
     "cell_type": "code",
     "collapsed": false,
     "input": [
      "import sys, os\n",
      "# BIN = os.path.expanduser(\"~/cern/git/PyHEADTAIL-new/\")\n",
      "BIN = os.path.expanduser(\"~/TECH/PyHEADTAIL/\")\n",
      "sys.path.append(BIN)"
     ],
     "language": "python",
     "metadata": {},
     "outputs": [],
     "prompt_number": 1
    },
    {
     "cell_type": "code",
     "collapsed": false,
     "input": [
      "import numpy as np\n",
      "from scipy.constants import m_p, c, e\n",
      "import matplotlib.pyplot as plt\n",
      "\n",
      "from PyHEADTAIL.trackers.transverse_tracking import TransverseMap\n",
      "from PyHEADTAIL.trackers.simple_long_tracking import LinearMap\n",
      "from PyHEADTAIL.rfq.rfq import RFQLongitudinalKick, RFQTransverseKick, RFQTransverseDetuner\n",
      "import PyHEADTAIL.particles.generators as generators\n",
      "\n",
      "try:\n",
      "    from PySussix import Sussix\n",
      "except ImportError:\n",
      "    print ('ERROR: This interactive test needs the PySUSSIX module.')"
     ],
     "language": "python",
     "metadata": {},
     "outputs": [],
     "prompt_number": 8
    },
    {
     "cell_type": "code",
     "collapsed": false,
     "input": [
      "# HELPERS\n",
      "def calc_sussix_spec(x, xp, y, yp, p_idx, turn, window_width, q_x, q_y, n_lines=10):\n",
      "\n",
      "    # Initialise Sussix object\n",
      "    SX = Sussix()\n",
      "    SX.sussix_inp(nt1=1, nt2=window_width, idam=2, ir=0, tunex=q_x, tuney=q_y)\n",
      "\n",
      "    tunes_x = np.empty(n_lines)\n",
      "    tunes_y = np.empty(n_lines)\n",
      "\n",
      "    SX.sussix(x[p_idx,turn:turn+window_width], xp[p_idx,turn:turn+window_width],\n",
      "              y[p_idx,turn:turn+window_width], yp[p_idx,turn:turn+window_width],\n",
      "              x[p_idx,turn:turn+window_width], xp[p_idx,turn:turn+window_width]) # this line is not used by sussix!\n",
      "\n",
      "    return SX.ox[:n_lines], SX.oy[:n_lines]\n",
      "\n",
      "def track_n_save(bunch, map_):\n",
      "    n_particles = bunch.macroparticlenumber\n",
      "    x_i = np.empty((n_particles, n_turns))\n",
      "    xp_i = np.empty((n_particles, n_turns))\n",
      "    y_i = np.empty((n_particles, n_turns))\n",
      "    yp_i = np.empty((n_particles, n_turns))\n",
      "\n",
      "    for i in xrange(n_turns):\n",
      "        x_i[:,i] = bunch.x[:]\n",
      "        xp_i[:,i] = bunch.xp[:]\n",
      "        y_i[:,i] = bunch.y[:]\n",
      "        yp_i[:,i] = bunch.yp[:]\n",
      "   \n",
      "        for m_ in map_:\n",
      "            m_.track(bunch)\n",
      "\n",
      "    return x_i, xp_i, y_i, yp_i\n",
      "\n",
      "def analyse_n_plot(bunch, x_i, xp_i, y_i, yp_i):\n",
      "    ox = np.empty(bunch.macroparticlenumber)\n",
      "    oy = np.empty(bunch.macroparticlenumber)\n",
      "    print 'analysing particle spectra ... this may take some time.'\n",
      "    for p_idx in range(bunch.macroparticlenumber):\n",
      "        ox[p_idx], oy[p_idx] = calc_sussix_spec(x_i, xp_i, y_i, yp_i, p_idx,\n",
      "                                   turn=0, window_width=512, q_x=Q_x%1, q_y=Q_y%1, n_lines=1)\n",
      "        if (p_idx)%100 == 0:\n",
      "            print 'particle', p_idx\n",
      "\n",
      "    fig = plt.figure(figsize=(20,20))\n",
      "    ax1 = fig.add_subplot(311)\n",
      "    ax2 = fig.add_subplot(312)\n",
      "    ax3 = fig.add_subplot(313)\n",
      "\n",
      "    ax1.scatter(ox, oy)\n",
      "    ax1.set_ylabel(r'$Q_y$')\n",
      "    ax1.set_xlabel(r'$Q_x$')\n",
      "    ax2.hist(ox, bins=50, color='blue')\n",
      "    ax2.set_xlabel(r'$Q_x$')\n",
      "    ax3.hist(oy, bins=50, color='red')\n",
      "    ax3.set_xlabel(r'$Q_y$')\n",
      "    \n",
      "    print 'std dev. Qx', np.std(ox)\n",
      "    print 'std dev. Qy', np.std(oy)\n",
      "    plt.show()\n",
      "\n",
      "def generate_bunch(n_macroparticles, alpha_x, alpha_y, beta_x, beta_y, linear_map):\n",
      "    \n",
      "    intensity = 1.05e11\n",
      "    sigma_z = 0.059958\n",
      "    gamma = 3730.26\n",
      "    gamma_t = 1. / np.sqrt(alpha_0)\n",
      "    p0 = np.sqrt(gamma**2 - 1) * m_p * c\n",
      "\n",
      "    beta_z = (linear_map.eta(dp=0, gamma=gamma) * linear_map.circumference / \n",
      "              (2 * np.pi * linear_map.Qs))\n",
      "\n",
      "    epsn_x = 3.75e-6 # [m rad]\n",
      "    epsn_y = 3.75e-6 # [m rad]\n",
      "    epsn_z = 4 * np.pi * sigma_z**2 * p0 / (beta_z * e) \n",
      "    \n",
      "    bunch = generators.Gaussian6DTwiss(\n",
      "        macroparticlenumber=n_macroparticles, intensity=intensity, charge=e,\n",
      "        gamma=gamma, mass=m_p, circumference=C,\n",
      "        alpha_x=alpha_x, beta_x=beta_x, epsn_x=epsn_x,\n",
      "        alpha_y=alpha_y, beta_y=beta_y, epsn_y=epsn_y,\n",
      "        beta_z=beta_z, epsn_z=epsn_z).generate()\n",
      "    \n",
      "    return bunch"
     ],
     "language": "python",
     "metadata": {},
     "outputs": [],
     "prompt_number": 9
    },
    {
     "cell_type": "code",
     "collapsed": false,
     "input": [
      "# Basic parameters.\n",
      "n_turns = 500\n",
      "n_segments = 5\n",
      "n_macroparticles = 500\n",
      "\n",
      "Q_x = 64.28\n",
      "Q_y = 59.31\n",
      "Q_s = 0.0020443\n",
      "\n",
      "C = 26658.883\n",
      "R = C / (2.*np.pi)\n",
      "\n",
      "alpha_x_inj = 0.\n",
      "alpha_y_inj = 0.\n",
      "beta_x_inj = 66.0064\n",
      "beta_y_inj = 71.5376\n",
      "alpha_0 = [0.0003225]"
     ],
     "language": "python",
     "metadata": {},
     "outputs": [],
     "prompt_number": 10
    },
    {
     "cell_type": "code",
     "collapsed": false,
     "input": [
      "# Parameters for transverse map.\n",
      "s = np.arange(0, n_segments + 1) * C / n_segments\n",
      "\n",
      "alpha_x = alpha_x_inj * np.ones(n_segments)\n",
      "beta_x = beta_x_inj * np.ones(n_segments)\n",
      "D_x = np.zeros(n_segments)\n",
      "\n",
      "alpha_y = alpha_y_inj * np.ones(n_segments)\n",
      "beta_y = beta_y_inj * np.ones(n_segments)\n",
      "D_y = np.zeros(n_segments)"
     ],
     "language": "python",
     "metadata": {},
     "outputs": [],
     "prompt_number": 11
    },
    {
     "cell_type": "code",
     "collapsed": false,
     "input": [
      "# TEST CASE SETUP\n",
      "def gimme(*detuners):\n",
      "    trans_map = TransverseMap(\n",
      "        C, s, alpha_x, beta_x, D_x, alpha_y, beta_y, D_y, Q_x, Q_y, *detuners)\n",
      "    long_map = LinearMap(alpha_0, C, Q_s)\n",
      "    bunch = generate_bunch(\n",
      "        n_macroparticles, alpha_x_inj, alpha_y_inj, beta_x_inj, beta_y_inj,\n",
      "        long_map)\n",
      "    return bunch, trans_map, long_map"
     ],
     "language": "python",
     "metadata": {},
     "outputs": [],
     "prompt_number": 12
    },
    {
     "cell_type": "code",
     "collapsed": false,
     "input": [
      "# CASE I\n",
      "# With RFQ transverse as detuner\n",
      "\n",
      "# EXPECTED TUNE SPREADS AT THE GIVEN SETTINGS ARE 3.4e-4 FOR HORIZONTAL\n",
      "# AND 1.7e-4 FOR VERTICAL.\n",
      "rfq_t = RFQTransverseDetuner(v_2=2e9, omega=800e6*2.*np.pi, phi_0=0.,\n",
      "                             beta_x_RFQ=200., beta_y_RFQ=100.)\n",
      "bunch, trans_map, long_map = gimme(rfq_t)\n",
      "\n",
      "trans_one_turn = [ m for m in trans_map ]\n",
      "map_ = trans_one_turn + [long_map]\n",
      "\n",
      "x_i, xp_i, y_i, yp_i = track_n_save(bunch, map_)\n",
      "analyse_n_plot(bunch, x_i, xp_i, y_i, yp_i)"
     ],
     "language": "python",
     "metadata": {},
     "outputs": [
      {
       "output_type": "stream",
       "stream": "stdout",
       "text": [
        "analysing particle spectra ... this may take some time.\n",
        "particle"
       ]
      },
      {
       "output_type": "stream",
       "stream": "stdout",
       "text": [
        " 0\n",
        "particle"
       ]
      },
      {
       "output_type": "stream",
       "stream": "stdout",
       "text": [
        " 100\n",
        "particle"
       ]
      },
      {
       "output_type": "stream",
       "stream": "stdout",
       "text": [
        " 200\n",
        "particle"
       ]
      },
      {
       "output_type": "stream",
       "stream": "stdout",
       "text": [
        " 300\n",
        "particle"
       ]
      },
      {
       "output_type": "stream",
       "stream": "stdout",
       "text": [
        " 400\n",
        "std dev. Qx"
       ]
      },
      {
       "output_type": "stream",
       "stream": "stdout",
       "text": [
        " 0.000342309707199\n",
        "std dev. Qy 0.000170889963786\n"
       ]
      }
     ],
     "prompt_number": 15
    },
    {
     "cell_type": "code",
     "collapsed": false,
     "input": [
      "# CASE II\n",
      "# With RFQ transverse as kick\n",
      "\n",
      "# EXPECTED TUNE SPREADS AT THE GIVEN SETTINGS ARE ROUGHLY 1.2e-4 FOR HORIZONTAL\n",
      "# AND FOR VERTICAL.\n",
      "rfq_t = RFQTransverseKick(v_2=2e9, omega=800e6*2.*np.pi, phi_0=0.)\n",
      "bunch, trans_map, long_map = gimme()\n",
      "\n",
      "trans_one_turn = [ m for m in trans_map ]\n",
      "map_ = trans_one_turn + [long_map] + [rfq_t]\n",
      "\n",
      "x_i, xp_i, y_i, yp_i = track_n_save(bunch, map_)\n",
      "analyse_n_plot(bunch, x_i, xp_i, y_i, yp_i)"
     ],
     "language": "python",
     "metadata": {},
     "outputs": [
      {
       "output_type": "stream",
       "stream": "stdout",
       "text": [
        "analysing particle spectra ... this may take some time.\n",
        "particle"
       ]
      },
      {
       "output_type": "stream",
       "stream": "stdout",
       "text": [
        " 0\n",
        "particle"
       ]
      },
      {
       "output_type": "stream",
       "stream": "stdout",
       "text": [
        " 100\n",
        "particle"
       ]
      },
      {
       "output_type": "stream",
       "stream": "stdout",
       "text": [
        " 200\n",
        "particle"
       ]
      },
      {
       "output_type": "stream",
       "stream": "stdout",
       "text": [
        " 300\n",
        "particle"
       ]
      },
      {
       "output_type": "stream",
       "stream": "stdout",
       "text": [
        " 400\n",
        "std dev. Qx"
       ]
      },
      {
       "output_type": "stream",
       "stream": "stdout",
       "text": [
        " 0.000112533863091\n",
        "std dev. Qy 0.000121914034331\n"
       ]
      }
     ],
     "prompt_number": 16
    },
    {
     "cell_type": "code",
     "collapsed": false,
     "input": [
      "# CASE III\n",
      "# With RFQ longitudinal Kick.\n",
      "\n",
      "# NEGLIGIBLE TUNE SPREADS EXPECTED.\n",
      "rfq_long = RFQLongitudinalKick(v_2=2e9, omega=800e6*2.*np.pi, phi_0=0.)\n",
      "\n",
      "bunch, trans_map, long_map = gimme()\n",
      "trans_one_turn = [ m for m in trans_map ]\n",
      "map_ = trans_one_turn + [long_map] + [rfq_long]\n",
      "\n",
      "x_i, xp_i, y_i, yp_i = track_n_save(bunch, map_)\n",
      "analyse_n_plot(bunch, x_i, xp_i, y_i, yp_i)"
     ],
     "language": "python",
     "metadata": {},
     "outputs": [
      {
       "output_type": "stream",
       "stream": "stdout",
       "text": [
        "analysing particle spectra ... this may take some time.\n",
        "particle"
       ]
      },
      {
       "output_type": "stream",
       "stream": "stdout",
       "text": [
        " 0\n",
        "particle"
       ]
      },
      {
       "output_type": "stream",
       "stream": "stdout",
       "text": [
        " 100\n",
        "particle"
       ]
      },
      {
       "output_type": "stream",
       "stream": "stdout",
       "text": [
        " 200\n",
        "particle"
       ]
      },
      {
       "output_type": "stream",
       "stream": "stdout",
       "text": [
        " 300\n",
        "particle"
       ]
      },
      {
       "output_type": "stream",
       "stream": "stdout",
       "text": [
        " 400\n",
        "std dev. Qx"
       ]
      },
      {
       "output_type": "stream",
       "stream": "stdout",
       "text": [
        " 2.68535581444e-06\n",
        "std dev. Qy 2.74431284371e-06\n"
       ]
      }
     ],
     "prompt_number": 18
    },
    {
     "cell_type": "code",
     "collapsed": false,
     "input": [
      "os.remove('sussix.inp')"
     ],
     "language": "python",
     "metadata": {},
     "outputs": [],
     "prompt_number": 19
    },
    {
     "cell_type": "code",
     "collapsed": false,
     "input": [],
     "language": "python",
     "metadata": {},
     "outputs": []
    }
   ],
   "metadata": {}
  }
 ]
}
