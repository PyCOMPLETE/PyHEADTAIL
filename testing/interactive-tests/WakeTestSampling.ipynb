{
 "cells": [
  {
   "cell_type": "code",
   "execution_count": 2,
   "metadata": {
    "collapsed": false
   },
   "outputs": [
    {
     "ename": "ImportError",
     "evalue": "No module named PyCERNmachines.CERNmachines",
     "output_type": "error",
     "traceback": [
      "\u001b[1;31m---------------------------------------------------------------------------\u001b[0m",
      "\u001b[1;31mImportError\u001b[0m                               Traceback (most recent call last)",
      "\u001b[1;32m<ipython-input-2-67c79c042aea>\u001b[0m in \u001b[0;36m<module>\u001b[1;34m()\u001b[0m\n\u001b[0;32m     16\u001b[0m \u001b[1;33m\u001b[0m\u001b[0m\n\u001b[0;32m     17\u001b[0m \u001b[1;33m\u001b[0m\u001b[0m\n\u001b[1;32m---> 18\u001b[1;33m \u001b[1;32mfrom\u001b[0m \u001b[0mPyCERNmachines\u001b[0m\u001b[1;33m.\u001b[0m\u001b[0mCERNmachines\u001b[0m \u001b[1;32mimport\u001b[0m \u001b[0mPSB\u001b[0m\u001b[1;33m\u001b[0m\u001b[0m\n\u001b[0m\u001b[0;32m     19\u001b[0m \u001b[1;33m\u001b[0m\u001b[0m\n\u001b[0;32m     20\u001b[0m \u001b[0mmachine\u001b[0m \u001b[1;33m=\u001b[0m \u001b[0mPSB\u001b[0m\u001b[1;33m(\u001b[0m\u001b[0mn_segments\u001b[0m\u001b[1;33m=\u001b[0m\u001b[1;36m1\u001b[0m\u001b[1;33m,\u001b[0m \u001b[0mmachine_configuration\u001b[0m\u001b[1;33m=\u001b[0m\u001b[0mcasem\u001b[0m\u001b[1;33m,\u001b[0m \u001b[0mlongitudinal_focusing\u001b[0m\u001b[1;33m=\u001b[0m\u001b[1;34m'linear'\u001b[0m\u001b[1;33m)\u001b[0m\u001b[1;33m\u001b[0m\u001b[0m\n",
      "\u001b[1;31mImportError\u001b[0m: No module named PyCERNmachines.CERNmachines"
     ]
    }
   ],
   "source": [
    "import sys\n",
    "import numpy as np\n",
    "from scipy.constants import c\n",
    "from scipy.interpolate import interp1d\n",
    "import matplotlib.pyplot as plt\n",
    "%matplotlib tk\n",
    "\n",
    "import MyStyle as ms\n",
    "ms.set_mystyle()\n",
    "\n",
    "\n",
    "cases = ['160MeV', '1GeV', '1c4GeV']\n",
    "case  = casem = '160MeV'\n",
    "case  = '1c4GeV'; casem = '1.4GeV'\n",
    "A = np.loadtxt('./PSB_'+case+'.wake')\n",
    "\n",
    "\n",
    "from PyCERNmachines.CERNmachines import PSB\n",
    "\n",
    "machine = PSB(n_segments=1, machine_configuration=casem, longitudinal_focusing='linear')\n",
    "sigma_z = 500e-9*machine.beta*c/4.\n",
    "bunch = machine.generate_6D_Gaussian_bunch(1e6, 1e12, 6e-6, 6e-6, sigma_z)\n",
    "\n",
    "A[:,0]  *= 1e-9 * machine.beta*c\n",
    "A[:,1:] *= 1e15\n",
    "\n",
    "\n",
    "from PyHEADTAIL.impedances.wakes import WakeTable, check_wake_sampling\n",
    "from PyHEADTAIL.particles.slicing import UniformBinSlicer\n",
    "\n",
    "wake_table = WakeTable('./PSB_'+case+'.wake', \n",
    "                       ['time', 'dipole_x', 'dipole_y', 'quadrupole_x', 'quadrupole_y'])"
   ]
  },
  {
   "cell_type": "code",
   "execution_count": null,
   "metadata": {
    "collapsed": false
   },
   "outputs": [],
   "source": [
    "zz = wake_table.wake_table['time']*1e-9*machine.beta*c\n",
    "z_tmp = np.ma.masked_outside(zz, -5, 5)\n",
    "zz = z_tmp[~z_tmp.mask]"
   ]
  },
  {
   "cell_type": "code",
   "execution_count": null,
   "metadata": {
    "collapsed": false
   },
   "outputs": [],
   "source": [
    "slicer = UniformBinSlicer(zz, z_cuts=(-50, 50), z_sample_points=zz)\n",
    "ss = bunch.get_slices(slicer).z_centers\n",
    "bb = bunch.get_slices(slicer).z_bins"
   ]
  },
  {
   "cell_type": "code",
   "execution_count": 5,
   "metadata": {
    "collapsed": false
   },
   "outputs": [
    {
     "name": "stdout",
     "output_type": "stream",
     "text": [
      "*** PyHEADTAIL WARNING! dipole_x Found low beta wake.\n",
      "\n",
      "--> Resulting number of slices: 3642\n"
     ]
    }
   ],
   "source": [
    "ax1 = check_wake_sampling(bunch, slicer, wake_table, machine.beta, 'dipole_x', bins=False)\n",
    "ax1.set_xlim(-100, 100)\n",
    "\n",
    "plt.tight_layout()\n",
    "plt.show()"
   ]
  },
  {
   "cell_type": "code",
   "execution_count": 6,
   "metadata": {
    "collapsed": false
   },
   "outputs": [
    {
     "name": "stdout",
     "output_type": "stream",
     "text": [
      "3643\n"
     ]
    }
   ],
   "source": [
    "print len(ss)"
   ]
  },
  {
   "cell_type": "code",
   "execution_count": null,
   "metadata": {
    "collapsed": true
   },
   "outputs": [],
   "source": []
  }
 ],
 "metadata": {
  "kernelspec": {
   "display_name": "Python 2",
   "language": "python",
   "name": "python2"
  },
  "language_info": {
   "codemirror_mode": {
    "name": "ipython",
    "version": 2
   },
   "file_extension": ".py",
   "mimetype": "text/x-python",
   "name": "python",
   "nbconvert_exporter": "python",
   "pygments_lexer": "ipython2",
   "version": "2.7.11"
  }
 },
 "nbformat": 4,
 "nbformat_minor": 0
}
