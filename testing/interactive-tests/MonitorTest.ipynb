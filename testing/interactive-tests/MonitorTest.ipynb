{
 "cells": [
  {
   "cell_type": "code",
   "execution_count": 1,
   "metadata": {
    "collapsed": false
   },
   "outputs": [],
   "source": [
    "import sys, os\n",
    "BIN = os.path.expanduser(\"../../../\")\n",
    "sys.path.append(BIN)"
   ]
  },
  {
   "cell_type": "code",
   "execution_count": 2,
   "metadata": {
    "collapsed": false
   },
   "outputs": [
    {
     "name": "stdout",
     "output_type": "stream",
     "text": [
      "PyHEADTAIL v1.6.0-1-gb6824eb4bd-dirty\n",
      "\n",
      "\n"
     ]
    }
   ],
   "source": [
    "import numpy as np\n",
    "from scipy.constants import m_p, c, e\n",
    "import matplotlib.pyplot as plt\n",
    "import h5py as hp\n",
    "\n",
    "from PyHEADTAIL.trackers.transverse_tracking import TransverseMap\n",
    "from PyHEADTAIL.monitors.monitors import BunchMonitor, SliceMonitor, ParticleMonitor\n",
    "from PyHEADTAIL.particles.particles import Particles\n",
    "import PyHEADTAIL.particles.generators as generators\n",
    "from PyHEADTAIL.particles.slicing import UniformBinSlicer"
   ]
  },
  {
   "cell_type": "code",
   "execution_count": 3,
   "metadata": {
    "collapsed": false
   },
   "outputs": [],
   "source": [
    "# HELPERS\n",
    "def read_all_data(bfile, sfile, pfile):\n",
    "    bunchdata = hp.File(bfile + '.h5')\n",
    "    slicedata = hp.File(sfile + '.h5')\n",
    "    particledata = hp.File(pfile + '.h5part')\n",
    "\n",
    "    # Bunchdata\n",
    "    bdata = bunchdata['Bunch']\n",
    "    \n",
    "    n_turns = len(bdata['mean_x'])\n",
    "    _ = np.empty(n_turns)\n",
    "    for key in bdata.keys():\n",
    "        _[:] = bdata[key][:]\n",
    "    \n",
    "    # Slicedata\n",
    "    sdata = slicedata['Slices']\n",
    "    sbdata = slicedata['Bunch']\n",
    "    \n",
    "    n_turns = len(sbdata['mean_x'])\n",
    "    _ = np.empty(n_turns)\n",
    "    for key in sbdata.keys():\n",
    "        _[:] = sbdata[key][:]\n",
    "    \n",
    "    n_slices, n_turns = sdata['mean_x'].shape\n",
    "    _ = np.empty((n_slices, n_turns))\n",
    "    for key in sdata.keys():\n",
    "        _[:,:] = sdata[key][:,:]\n",
    "\n",
    "    # Particledata\n",
    "    pdata = particledata['Step#0']\n",
    "    n_particles = len(pdata['x'])\n",
    "    n_steps = len(particledata.keys())\n",
    "    _ = np.empty(n_particles)\n",
    "    \n",
    "    for i in xrange(n_steps):\n",
    "        step = 'Step#%d' % i\n",
    "        for key in particledata[step].keys():\n",
    "            _[:] = particledata[step][key][:]\n",
    "    \n",
    "    bunchdata.close()\n",
    "    slicedata.close()\n",
    "    particledata.close()\n",
    "\n",
    "def read_n_plot_data(bfile, sfile, pfile):\n",
    "    bunchdata = hp.File(bfile + '.h5')\n",
    "    slicedata = hp.File(sfile + '.h5')\n",
    "    particledata = hp.File(pfile + '.h5part')\n",
    "\n",
    "    fig = plt.figure(figsize=(16, 16))\n",
    "    ax1 = fig.add_subplot(311)\n",
    "    ax2 = fig.add_subplot(312)\n",
    "    ax3 = fig.add_subplot(313)\n",
    "\n",
    "    ax1.plot(bunchdata['Bunch']['mean_x'][:])\n",
    "    ax2.plot(slicedata['Slices']['mean_x'][:,:])\n",
    "    ax3.plot(particledata['Step#0']['x'][:])\n",
    "    #ax2.plot(slicedata[])\n",
    "    \n",
    "    plt.show()\n",
    "    \n",
    "    bunchdata.close()\n",
    "    slicedata.close()\n",
    "    particledata.close()\n",
    "\n",
    "def generate_bunch(n_macroparticles, alpha_x, alpha_y, beta_x, beta_y, alpha_0, Q_s, R):\n",
    "    \n",
    "    intensity = 1.05e11\n",
    "    sigma_z = 0.059958\n",
    "    gamma = 3730.26\n",
    "    eta = alpha_0 - 1. / gamma**2\n",
    "    gamma_t = 1. / np.sqrt(alpha_0)\n",
    "    p0 = np.sqrt(gamma**2 - 1) * m_p * c\n",
    "\n",
    "    beta_z = eta * R / Q_s\n",
    "\n",
    "    epsn_x = 3.75e-6 # [m rad]\n",
    "    epsn_y = 3.75e-6 # [m rad]\n",
    "    epsn_z = 4 * np.pi * sigma_z**2 * p0 / (beta_z * e) # WITH OR WITHOUT 4 PIjQuery202047649151738733053_1414145430832?\n",
    "    \n",
    "    bunch = generators.generate_Gaussian6DTwiss(\n",
    "        macroparticlenumber=n_macroparticles, intensity=intensity, charge=e,\n",
    "        gamma=gamma, mass=m_p, circumference=C,\n",
    "        alpha_x=alpha_x, beta_x=beta_x, epsn_x=epsn_x,\n",
    "        alpha_y=alpha_y, beta_y=beta_y, epsn_y=epsn_y,\n",
    "        beta_z=beta_z, epsn_z=epsn_z)\n",
    "    print bunch.sigma_z()\n",
    "    \n",
    "    return bunch"
   ]
  },
  {
   "cell_type": "code",
   "execution_count": 4,
   "metadata": {
    "collapsed": false
   },
   "outputs": [],
   "source": [
    "# Basic parameters.\n",
    "n_turns = 500\n",
    "n_segments = 5\n",
    "n_macroparticles = 500\n",
    "\n",
    "Q_x = 64.28\n",
    "Q_y = 59.31\n",
    "Q_s = 0.0020443\n",
    "\n",
    "C = 26658.883\n",
    "R = C / (2.*np.pi)\n",
    "\n",
    "alpha_x_inj = 0.\n",
    "alpha_y_inj = 0.\n",
    "beta_x_inj = 66.0064\n",
    "beta_y_inj = 71.5376\n",
    "alpha_0 = 0.0003225"
   ]
  },
  {
   "cell_type": "markdown",
   "metadata": {},
   "source": [
    "##### Things tested:   - Instantiation of the three monitors BunchMonitor, SliceMonitor, ParticleMonitor.   - dump(beam) method for all the three.   - read data from file. Plot example data from Bunch-, Slice- and Particle-Monitors.   - SliceMonitor: does it handle/request slice_sets correctly?   - Buffers are on for Bunch- and SliceMonitors.  Look at one of the files in hdfview to check the units, attributes, ..."
   ]
  },
  {
   "cell_type": "code",
   "execution_count": 5,
   "metadata": {
    "collapsed": false
   },
   "outputs": [],
   "source": [
    "# Parameters for transverse map.\n",
    "s = np.arange(0, n_segments + 1) * C / n_segments\n",
    "\n",
    "alpha_x = alpha_x_inj * np.ones(n_segments)\n",
    "beta_x = beta_x_inj * np.ones(n_segments)\n",
    "D_x = np.zeros(n_segments)\n",
    "\n",
    "alpha_y = alpha_y_inj * np.ones(n_segments)\n",
    "beta_y = beta_y_inj * np.ones(n_segments)\n",
    "D_y = np.zeros(n_segments)"
   ]
  },
  {
   "cell_type": "code",
   "execution_count": 6,
   "metadata": {
    "collapsed": false
   },
   "outputs": [
    {
     "name": "stdout",
     "output_type": "stream",
     "text": [
      "0.0592220127762\n"
     ]
    }
   ],
   "source": [
    "# Instantiate BunchMonitor, SliceMonitor and ParticleMonitor and dump data to file.\n",
    "bunch = generate_bunch(\n",
    "    n_macroparticles, alpha_x_inj, alpha_y_inj, beta_x_inj, beta_y_inj,\n",
    "    alpha_0, Q_s, R)\n",
    "\n",
    "trans_map = TransverseMap(\n",
    "    s, alpha_x, beta_x, D_x, alpha_y, beta_y, D_y, Q_x, Q_y)\n",
    "\n",
    "# Slicer config for SliceMonitor.\n",
    "unibin_slicer = UniformBinSlicer(n_slices=10, n_sigma_z=None, z_cuts=None)\n",
    "\n",
    "# Monitors\n",
    "bunch_filename = 'bunch_mon'\n",
    "slice_filename = 'slice_mon'\n",
    "particle_filename = 'particle_mon'\n",
    "\n",
    "bunch_monitor = BunchMonitor(filename=bunch_filename, n_steps=n_turns, parameters_dict={'Q_x': Q_x}, \n",
    "                             write_buffer_every=20)\n",
    "slice_monitor = SliceMonitor(\n",
    "    filename=slice_filename, n_steps=n_turns, slicer=unibin_slicer, parameters_dict={'Q_x': Q_x},\n",
    "    write_buffer_every=20)\n",
    "particle_monitor = ParticleMonitor(filename=particle_filename, stride=10, parameters_dict={'Q_x': Q_x})\n",
    "\n",
    "arrays_dict = {}\n",
    "map_ = trans_map\n",
    "for i in xrange(n_turns):\n",
    "    for m_ in map_:\n",
    "        m_.track(bunch)\n",
    "    bunch_monitor.dump(bunch)\n",
    "    slice_monitor.dump(bunch)\n",
    "    \n",
    "    slice_set_pmon = bunch.get_slices(unibin_slicer)\n",
    "    arrays_dict.update({'slidx': slice_set_pmon.slice_index_of_particle, 'zz': bunch.z})\n",
    "    particle_monitor.dump(bunch, arrays_dict)\n",
    "\n",
    "read_all_data(bunch_filename, slice_filename, particle_filename)\n",
    "read_n_plot_data(bunch_filename, slice_filename, particle_filename)"
   ]
  },
  {
   "cell_type": "code",
   "execution_count": 7,
   "metadata": {
    "collapsed": false
   },
   "outputs": [],
   "source": [
    "import os\n",
    "os.remove(bunch_filename + '.h5')\n",
    "os.remove(slice_filename + '.h5')\n",
    "os.remove(particle_filename + '.h5part')"
   ]
  },
  {
   "cell_type": "code",
   "execution_count": null,
   "metadata": {
    "collapsed": false
   },
   "outputs": [],
   "source": []
  },
  {
   "cell_type": "code",
   "execution_count": null,
   "metadata": {
    "collapsed": true
   },
   "outputs": [],
   "source": []
  }
 ],
 "metadata": {
  "kernelspec": {
   "display_name": "Python 2",
   "language": "python",
   "name": "python2"
  },
  "language_info": {
   "codemirror_mode": {
    "name": "ipython",
    "version": 2
   },
   "file_extension": ".py",
   "mimetype": "text/x-python",
   "name": "python",
   "nbconvert_exporter": "python",
   "pygments_lexer": "ipython2",
   "version": "2.7.11"
  }
 },
 "nbformat": 4,
 "nbformat_minor": 0
}
