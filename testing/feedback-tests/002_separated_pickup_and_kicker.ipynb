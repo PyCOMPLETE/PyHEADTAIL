{
 "cells": [
  {
   "cell_type": "code",
   "execution_count": null,
   "metadata": {
    "collapsed": false
   },
   "outputs": [],
   "source": [
    "from __future__ import unicode_literals\n",
    "\n",
    "import sys, os\n",
    "BIN = os.path.expanduser(\"../../../\")\n",
    "sys.path.append(BIN)\n",
    "\n",
    "import numpy as np\n",
    "from scipy.constants import m_p, c, e, pi\n",
    "import matplotlib.pyplot as plt\n",
    "%matplotlib inline\n",
    "\n",
    "import copy\n",
    "import itertools\n",
    "\n",
    "from test_tools import generate_objects, BunchTracker, track, compare_traces, compare_projections, Machine\n",
    "\n",
    "from PyHEADTAIL.feedback.feedback import OneboxFeedback, Kicker, PickUp\n",
    "from PyHEADTAIL.feedback.processors import ChargeWeighter, Averager, Bypass\n",
    "from PyHEADTAIL.feedback.digital_processors import HilbertPhaseShiftRegister\n",
    "\n",
    "np.random.seed(0)"
   ]
  },
  {
   "cell_type": "code",
   "execution_count": null,
   "metadata": {
    "collapsed": false
   },
   "outputs": [],
   "source": [
    "\"\"\" \n",
    "    In this example a more complex feedback system, which is an ideal bunch feedback but consists of \n",
    "    a separated pickup and a kicker is presented. More details from the ideal bunch feedback can be found\n",
    "    from previous example (001_ideal_feedbacks.ipynb).\n",
    "\n",
    "    @author Jani Komppula\n",
    "    @date 26/09/2016\n",
    "    @copyright CERN\n",
    "\"\"\""
   ]
  },
  {
   "cell_type": "code",
   "execution_count": null,
   "metadata": {
    "collapsed": false
   },
   "outputs": [],
   "source": [
    "# Basic parameters for the simulation\n",
    "n_macroparticles = 10000\n",
    "n_slices = 20\n",
    "n_segments = 5\n",
    "n_sigma_z = 3 \n",
    "\n",
    "n_turns = 400\n",
    "\n",
    "# Longitudinal motion of the bunch has not been taken into account in this example.\n",
    "machine = Machine(Q_s = 0.00000001)\n",
    "# If you want to include the longitudinal motion, please uncomment the following line\n",
    "# machine = Machine(Q_s = 0.0020443)\n",
    "\n",
    "bunch_ref, slicer_ref,trans_map, long_map = generate_objects(machine, n_macroparticles,n_segments, \n",
    "                                                             n_slices,n_sigma_z)\n",
    "bunch_unkicked = copy.deepcopy(bunch_ref)\n"
   ]
  },
  {
   "cell_type": "code",
   "execution_count": null,
   "metadata": {
    "collapsed": false
   },
   "outputs": [],
   "source": [
    "# This creates an artificially kicked bunch, which will be damped with different feedback systems\n",
    "\n",
    "slice_set = bunch_ref.get_slices(slicer_ref, statistics=True)\n",
    "p_idx = slice_set.particles_within_cuts\n",
    "s_idx = slice_set.slice_index_of_particle.take(p_idx)\n",
    "\n",
    "# random kicks\n",
    "kick_x = 0.003*(-1.0+2*np.random.rand(n_slices))\n",
    "kick_y = 0.003*(-1.0+2*np.random.rand(n_slices))\n",
    "\n",
    "for p_id, s_id in itertools.izip(p_idx,s_idx):\n",
    "    bunch_ref.x[p_id] += kick_x[s_id]\n",
    "    bunch_ref.y[p_id] += kick_y[s_id]\n",
    "    \n",
    "bunch_init = copy.deepcopy(bunch_ref)\n",
    "tracker_ref = BunchTracker(bunch_init)\n",
    "maps_ref = [i for i in trans_map] + [long_map]\n",
    "track(n_turns, bunch_init,maps_ref,tracker_ref)"
   ]
  },
  {
   "cell_type": "code",
   "execution_count": null,
   "metadata": {
    "collapsed": true
   },
   "outputs": [],
   "source": [
    "# In the used code, the parameter 'gain' is determined as a fraction of the input signal if the used signal \n",
    "# processors would bypass the signalperfectly\n",
    "\n",
    "# There are two ways to set a gain value. If only one value is given, same value will be used both\n",
    "# in horizontal and vertical plane. If two values are given, separed values (x,y) are used for horizontal and\n",
    "# vertical planes\n",
    "\n",
    "feedback_gain = 0.01\n",
    "# feedback_gain = (0.01,0.01)\n",
    "\n",
    "# Parameters for the registers\n",
    "delay = 1 \n",
    "n_values = 3"
   ]
  },
  {
   "cell_type": "code",
   "execution_count": null,
   "metadata": {
    "collapsed": false
   },
   "outputs": [],
   "source": [
    "# A reference feedback system for the examples presented in this file is the ideal bunch feedback:\n",
    "\n",
    "bunch_OneBox_bunch = copy.deepcopy(bunch_ref)\n",
    "tracker_OneBox_bunch = BunchTracker(bunch_OneBox_bunch)\n",
    "slicer_OneBox_bunch = copy.deepcopy(slicer_ref)\n",
    "\n",
    "processors_bunch_x = [\n",
    "    ChargeWeighter(normalization = 'average_weight'),\n",
    "    Averager()\n",
    "]\n",
    "processors_bunch_y = [\n",
    "    ChargeWeighter(normalization = 'average_weight'),\n",
    "    Averager()\n",
    "]\n",
    "\n",
    "feedback_map = OneboxFeedback(feedback_gain,slicer_OneBox_bunch,processors_bunch_x,processors_bunch_y)\n",
    "total_map_OneBox_bunch = [i for i in trans_map] + [long_map] + [feedback_map]\n",
    "\n",
    "track(n_turns, bunch_OneBox_bunch,total_map_OneBox_bunch,tracker_OneBox_bunch)\n",
    "\n",
    "# That feedback system is extended to consist of a separated pickup and a kicker in this file. If you don't\n",
    "# understand details of the code above, please study examples from the file 001_ideal_feedbacks.ipynb"
   ]
  },
  {
   "cell_type": "code",
   "execution_count": null,
   "metadata": {
    "collapsed": false
   },
   "outputs": [],
   "source": [
    "# Before implementing a separated pickup and kicker, a new signal processors must be introduced; a register. \n",
    "# Registers is a signal processors which can store and delay a signal in the units of turns. In order to do \n",
    "# that they are also able to rotate the signal in terms of betatron motion.\n",
    "#\n",
    "# At the moment of writing this example, three different types of registers have been implemented \n",
    "# (VectorSumRegister(...), CosineSumRegister(...) and HilbertPhaseShiftRegister(...)). They work\n",
    "# exactly similarly as a part of the list of signal processors, but different approaches for betatron phase \n",
    "# shift are utilized in them\n",
    "#\n",
    "# HilbertPhaseShiftRegister is used in the examples in this file for demonstrating the usage of a register \n",
    "# as a signal processor. At first, one turn delay is implemented by adding a register to the lists of signal\n",
    "# processors\n",
    "\n",
    "bunch_register_example = copy.deepcopy(bunch_ref)\n",
    "tracker_register_example = BunchTracker(bunch_register_example)\n",
    "slicer_register_example = copy.deepcopy(slicer_ref)\n",
    "\n",
    "\n",
    "# One turn delay is implemented simply by adding a register to the lists of signal processors. Delay \n",
    "# (in the units of turns) is given as an input parameter for registers. The other required input parameters \n",
    "# for are a number of values stored to register (used for calculating the correct betatron phase for \n",
    "# the signal), and a tune of the machine in the studied plane.\n",
    "\n",
    "processors_register_example_x = [\n",
    "    ChargeWeighter(normalization = 'average_weight'),\n",
    "    Averager(),\n",
    "    HilbertPhaseShiftRegister(n_values, machine.Q_x, delay)\n",
    "]\n",
    "processors_register_example_y = [\n",
    "    ChargeWeighter(normalization = 'average_weight'),\n",
    "    Averager(),\n",
    "    HilbertPhaseShiftRegister(n_values, machine.Q_y, delay)\n",
    "]\n",
    "\n",
    "feedback_map = OneboxFeedback(feedback_gain,slicer_register_example,\n",
    "                              processors_register_example_x,processors_register_example_y)\n",
    "total_map_register_example = [i for i in trans_map] + [long_map] + [feedback_map]\n",
    "\n",
    "track(n_turns, bunch_register_example,total_map_register_example,tracker_register_example)\n"
   ]
  },
  {
   "cell_type": "code",
   "execution_count": null,
   "metadata": {
    "collapsed": false
   },
   "outputs": [],
   "source": [
    "# As it was explained, registers are used for storing the signal and rotating it in the betatron phase. Thus,\n",
    "# a signal recorded in one place of the accelerator (e.g. pickup) can be rotated to the correct betatron \n",
    "# phase in the other place of the accelerator (e.g. kicker) by using a register\n",
    "#\n",
    "# A feedback system consisting of a separated pickup and kicker can be implemented similarly to the case\n",
    "# of OneboxFeedback. Instead of adding OneboxFeedback object to the total tracking map of PyHEADTAIL, \n",
    "# separated Pickup and Kicker objects are added to the correct locations. The signal in both the pickup \n",
    "# and the kicker is processed by giving a list of signal processors as an input parameter to the objects. \n",
    "# The signal from the pickup is transferred to the kicker by giving a reference to the register, which is \n",
    "# the last element of the signal processors in the pickup, as an input parameter to the kicker. \n",
    "\n",
    "bunch_separated_example = copy.deepcopy(bunch_ref)\n",
    "tracker_separated_example = BunchTracker(bunch_separated_example)\n",
    "slicer_separated_example = copy.deepcopy(slicer_ref)\n",
    "\n",
    "# At first, the pickup is created. It uses the exactly same signal processors as used in the previous example.\n",
    "processors_separated_pickup_x = [\n",
    "    ChargeWeighter(normalization = 'average_weight'),\n",
    "    Averager(),\n",
    "    HilbertPhaseShiftRegister(n_values, machine.Q_x, delay)\n",
    "]\n",
    "processors_separated_pickup_y = [\n",
    "    ChargeWeighter(normalization = 'average_weight'),\n",
    "    Averager(),\n",
    "    HilbertPhaseShiftRegister(n_values, machine.Q_y, delay)\n",
    "]\n",
    "\n",
    "# A location of the pickup in units of betatron phase advance, must be given as a input parameter for \n",
    "# Pickup(...) object. The total betatron phase angle over the accelerator is 2*pi*Q. In this example, \n",
    "# the accelerator is divided into a number of equally length segments determined by 'n_segments'. Thus, \n",
    "# the length of the one segment in betatron phase is 2*pi*Q/n_segments. The location of the pickup is after \n",
    "# the first segment, so this number is multiplied by one, i.e. \n",
    "pickup_location_x = 1.*2.*pi/float(n_segments)*machine.Q_x\n",
    "pickup_location_y = 1.*2.*pi/float(n_segments)*machine.Q_y\n",
    "\n",
    "# The map element is created by giving a slicer object and the parameters defined above as the input parameters\n",
    "pickup_map = PickUp(slicer_separated_example,processors_separated_pickup_x,processors_separated_pickup_y, \n",
    "       pickup_location_x, pickup_location_y)\n",
    "\n",
    "\n",
    "\n",
    "\n",
    "# The kicker can be created very similarly to the pickup. In addition to the input parameters given to PickUp,\n",
    "# a gain value, references to the registers in the pickup and conversion \n",
    "# coefficients for amplitude conversion from displacement to divergence must be given as input parameters.\n",
    "\n",
    "# In this example, signal processing in the kicker is not needed, so Bypass() processors are used\n",
    "processors_separated_kicker_x = [Bypass()]\n",
    "processors_separated_kicker_y = [Bypass()]\n",
    "\n",
    "# In here a list of references to the register processors(s) in the pickup(s) is created\n",
    "registers_x = [processors_separated_pickup_x[2]]\n",
    "registers_y = [processors_separated_pickup_y[2]]\n",
    "\n",
    "# In this example, the location of the kicker is after the second map element of of the trans_map.\n",
    "# In betatron phase advance it means that\n",
    "kicker_location_x = 2.*2.*pi/float(n_segments)*machine.Q_x\n",
    "kicker_location_y = 2.*2.*pi/float(n_segments)*machine.Q_y\n",
    "\n",
    "# The signal units in a pickup and a kicker are different. The pickup measures displacement in the units of \n",
    "# distance [m], but the kick is given in the kicker in the units of divergence [radian]. Thus, conversion\n",
    "# coefficients from distance in the kicker to divergence in the kicker must br given. \n",
    "# The coefficients can be calculated, for example, from the ratios of the sigma values\n",
    "xp_per_x = bunch_unkicked.sigma_xp()/bunch_unkicked.sigma_x()\n",
    "yp_per_y = bunch_unkicked.sigma_yp()/bunch_unkicked.sigma_y()\n",
    "\n",
    "kicker_map = Kicker(feedback_gain, slicer_separated_example,\n",
    "                    processors_separated_kicker_x, processors_separated_kicker_y,\n",
    "                    kicker_location_x, kicker_location_y,\n",
    "                    registers_x, registers_y, xp_per_x, yp_per_y)\n",
    "\n",
    "# After that the maps must be added to correct slots of the total map determined by the location of \n",
    "# the picup and the kicker\n",
    "total_map_separated_example = [trans_map[0]] + [pickup_map] + [trans_map[1]] + [kicker_map]\n",
    "for element in trans_map[2:]:\n",
    "    total_map_separated_example += [element]\n",
    "total_map_separated_example += [long_map]\n",
    "    \n",
    "    \n",
    "track(n_turns, bunch_separated_example,total_map_separated_example,tracker_separated_example)"
   ]
  },
  {
   "cell_type": "code",
   "execution_count": null,
   "metadata": {
    "collapsed": false
   },
   "outputs": [],
   "source": []
  },
  {
   "cell_type": "code",
   "execution_count": null,
   "metadata": {
    "collapsed": false
   },
   "outputs": [],
   "source": [
    "# In here, the traces and the projections from different implementations of the feedback system are compared.\n",
    "# Note the scale in the emittance figures.\n",
    "\n",
    "compare_traces([tracker_OneBox_bunch,tracker_register_example,tracker_separated_example],\n",
    "               ['Ideal', 'Delayed', 'Separated'])\n",
    "compare_projections([ bunch_OneBox_bunch,  bunch_register_example, bunch_separated_example], \n",
    "                    ['Ideal', 'Delayed', 'Separated'])"
   ]
  },
  {
   "cell_type": "code",
   "execution_count": null,
   "metadata": {
    "collapsed": true
   },
   "outputs": [],
   "source": []
  }
 ],
 "metadata": {
  "kernelspec": {
   "display_name": "Python 2",
   "language": "python",
   "name": "python2"
  },
  "language_info": {
   "codemirror_mode": {
    "name": "ipython",
    "version": 2
   },
   "file_extension": ".py",
   "mimetype": "text/x-python",
   "name": "python",
   "nbconvert_exporter": "python",
   "pygments_lexer": "ipython2",
   "version": "2.7.5"
  }
 },
 "nbformat": 4,
 "nbformat_minor": 0
}
