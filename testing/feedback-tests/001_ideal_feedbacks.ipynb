{
 "cells": [
  {
   "cell_type": "code",
   "execution_count": null,
   "metadata": {
    "collapsed": false
   },
   "outputs": [],
   "source": [
    "from __future__ import unicode_literals\n",
    "\n",
    "import sys, os\n",
    "BIN = os.path.expanduser(\"../../../\")\n",
    "sys.path.append(BIN)\n",
    "\n",
    "import numpy as np\n",
    "from scipy.constants import m_p, c, e\n",
    "import matplotlib.pyplot as plt\n",
    "%matplotlib inline\n",
    "\n",
    "import copy\n",
    "import itertools\n",
    "\n",
    "from test_tools import Machine, generate_objects, BunchTracker, track, compare_traces, compare_projections\n",
    "\n",
    "from PyHEADTAIL.feedback.feedback import IdealBunchFeedback,IdealSliceFeedback,OneboxFeedback\n",
    "from PyHEADTAIL.feedback.processors import ChargeWeighter, Averager, Bypass\n",
    "\n",
    "np.random.seed(0)"
   ]
  },
  {
   "cell_type": "code",
   "execution_count": null,
   "metadata": {
    "collapsed": false
   },
   "outputs": [],
   "source": [
    "\"\"\" \n",
    "    This example shows how to use ideal feedback systems in PyHEADTAIL simulations. In order to avoid writing\n",
    "    unnecessary code here, the used bunch, slicer and transfer maps are created by using functions and classes\n",
    "    written to file test_tools.py in this folder.\n",
    "\n",
    "    @author Jani Komppula\n",
    "    @date 26/09/2016\n",
    "    @copyright CERN\n",
    "\"\"\""
   ]
  },
  {
   "cell_type": "code",
   "execution_count": null,
   "metadata": {
    "collapsed": false
   },
   "outputs": [],
   "source": [
    "# Basic parameters for the simulation\n",
    "n_macroparticles = 10000\n",
    "n_slices = 20\n",
    "n_segments = 5\n",
    "n_sigma_z = 3 \n",
    "\n",
    "n_turns = 150\n",
    "\n",
    "# Longitudinal motion of the bunch has not been taken into account in this example.\n",
    "machine = Machine(Q_s = 0.00000001)\n",
    "# If you want to include the longitudinal motion, please uncomment the following line\n",
    "# machine = Machine(Q_s = 0.0020443)\n",
    "\n",
    "bunch_ref, slicer_ref,trans_map, long_map = generate_objects(machine, n_macroparticles,n_segments, \n",
    "                                                             n_slices,n_sigma_z)"
   ]
  },
  {
   "cell_type": "code",
   "execution_count": null,
   "metadata": {
    "collapsed": false
   },
   "outputs": [],
   "source": [
    "# This creates an artificially kicked bunch, which will be damped with different feedback systems\n",
    "\n",
    "slice_set = bunch_ref.get_slices(slicer_ref, statistics=True)\n",
    "p_idx = slice_set.particles_within_cuts\n",
    "s_idx = slice_set.slice_index_of_particle.take(p_idx)\n",
    "\n",
    "# Random kicks\n",
    "kick_x = 0.003*(-1.0+2*np.random.rand(n_slices))\n",
    "kick_y = 0.003*(-1.0+2*np.random.rand(n_slices))\n",
    "# A bunch kick\n",
    "# kick_x = 0.003*np.ones(n_slices)\n",
    "# kick_y = 0.003*np.ones(n_slices)\n",
    "\n",
    "for p_id, s_id in itertools.izip(p_idx,s_idx):\n",
    "    bunch_ref.x[p_id] += kick_x[s_id]\n",
    "    bunch_ref.y[p_id] += kick_y[s_id]\n",
    "    \n",
    "bunch_init = copy.deepcopy(bunch_ref)\n",
    "tracker_ref = BunchTracker(bunch_init)\n",
    "maps_ref = [i for i in trans_map] + [long_map]\n",
    "track(n_turns, bunch_init,maps_ref,tracker_ref)"
   ]
  },
  {
   "cell_type": "code",
   "execution_count": null,
   "metadata": {
    "collapsed": true
   },
   "outputs": [],
   "source": [
    "# In the used code, the parameter 'gain' is determined as a fraction of the input signal which is corrected, \n",
    "# if the signal passes through the signal processors without modifications.\n",
    "\n",
    "# There are two ways to set a gain value. If only one value is given, same value is used for both\n",
    "# in the horizontal and the vertical planes. If two values are given, separed values (x,y) are used for the \n",
    "# horizontal and the vertical planes\n",
    "\n",
    "feedback_gain = 0.1\n",
    "# feedback_gain = (0.1,0.4)"
   ]
  },
  {
   "cell_type": "code",
   "execution_count": null,
   "metadata": {
    "collapsed": false
   },
   "outputs": [],
   "source": [
    "# The simplest possible feedback is a bunch feedback. It takes the mean_xp and mean_yp values of the bunch \n",
    "# and correct those values by a fraction of gain.\n",
    "\n",
    "# The bunch is created by copying the bunch created in earlier\n",
    "bunch_IdealBunchFB = copy.deepcopy(bunch_ref)\n",
    "\n",
    "# A tracker object from test_tools.py is used for recording the values of the bunch during the bunch traking\n",
    "tracker_IdealBunchFB = BunchTracker(bunch_IdealBunchFB)\n",
    "\n",
    "# A PyHEADTAIL map element for the total map is created by creating IdealBunchFeedback() object. The only\n",
    "# input parameter is the gain\n",
    "feedback_map = IdealBunchFeedback(feedback_gain)\n",
    "total_map_FB = [i for i in trans_map] + [long_map] + [feedback_map]\n",
    "\n",
    "# The actual simulation is done by calling track method from test_tools.py\n",
    "track(n_turns, bunch_IdealBunchFB,total_map_FB,tracker_IdealBunchFB)"
   ]
  },
  {
   "cell_type": "code",
   "execution_count": null,
   "metadata": {
    "collapsed": false
   },
   "outputs": [],
   "source": [
    "# The most idealistic feedback is a slice feedback. It takes the mean_xp and mean_yp values from each slice \n",
    "# and correct them by a fraction of gain.\n",
    "\n",
    "bunch_IdealSliceFB = copy.deepcopy(bunch_ref)\n",
    "tracker_IdealSliceFB = BunchTracker(bunch_IdealSliceFB)\n",
    "slicer_IdealSliceFB = copy.deepcopy(slicer_ref)\n",
    "\n",
    "# A PyHEADTAIL map element for the total map is created by creating IdealSliceFeedback() object. The only\n",
    "# input parameter is the gain and a slicer for the bunch\n",
    "feedback_map = IdealSliceFeedback(feedback_gain,slicer_IdealSliceFB)\n",
    "total_map_FB = [i for i in trans_map] + [long_map] + [feedback_map]\n",
    "\n",
    "track(n_turns, bunch_IdealSliceFB,total_map_FB,tracker_IdealSliceFB)"
   ]
  },
  {
   "cell_type": "code",
   "execution_count": null,
   "metadata": {
    "collapsed": false
   },
   "outputs": [],
   "source": [
    "# The examples above utilize separately programmed classes for ideal feedbacks. The actual feedback module\n",
    "# utilizes objects namely signal processors for modifying signal between pickup and kicker. In order to learn\n",
    "# this concept, we build the above introduced ideal feedbacks by using OneboxFeedback object.\n",
    "#\n",
    "# The easiest feedback systemn to implement is the ideal slice feedback, which has been presented at first.\n",
    "\n",
    "bunch_OneBox_slice = copy.deepcopy(bunch_ref)\n",
    "tracker_OneBox_slice = BunchTracker(bunch_OneBox_slice)\n",
    "slicer_OneBox_slice = copy.deepcopy(slicer_ref)\n",
    "\n",
    "\n",
    "# By the defaul, OneboxFeedback takes mean xp/yp values from the slices and gives that as an input signal for \n",
    "# signal processors. The signal goes throught all the signal processors, which are given as lists for\n",
    "# horizontal and vertical planes. The final corrections for mean xp/yp values of the slices are the signals \n",
    "# from the signal processors, which are multiplied by a gain value. The definition for the gain value is that it \n",
    "# it is a fraction of the mean xp/yp values of the slices corrected if the signal is not modified in the \n",
    "# signal processors.\n",
    "#\n",
    "# In the ideal slice feedback, signals are not modified in the signal processors. Thus, a processor Bypass() \n",
    "# is used in both vertical and horizontal planes, which bypasses the signals without any modifications.\n",
    "\n",
    "processors_slice_x = [Bypass()]\n",
    "processors_slice_y = [Bypass()]\n",
    "\n",
    "# A PyHEADTAIL map element is created by calling OneboxFeedback(...) object. OneboxFeedback requires a gain\n",
    "# value, a PyHEADTAIL slicer object and lists of signal processors used in horizontal and vertical plane\n",
    "# as input arguments\n",
    "feedback_map = OneboxFeedback(feedback_gain,slicer_OneBox_slice,processors_slice_x,processors_slice_y)\n",
    "total_map_OneBox_slice = [i for i in trans_map] + [long_map] + [feedback_map]\n",
    "\n",
    "track(n_turns, bunch_OneBox_slice,total_map_OneBox_slice,tracker_OneBox_slice)"
   ]
  },
  {
   "cell_type": "code",
   "execution_count": null,
   "metadata": {
    "collapsed": false
   },
   "outputs": [],
   "source": [
    "bunch_OneBox_bunch = copy.deepcopy(bunch_ref)\n",
    "tracker_OneBox_bunch = BunchTracker(bunch_OneBox_bunch)\n",
    "slicer_OneBox_bunch = copy.deepcopy(slicer_ref)\n",
    "\n",
    "# The ideal bunch feedback makes corrections to mean xp/yp values of the bunch. In order to implement this \n",
    "# the input signal (mean xp/yp values of the slices) must be modified to the mean xp/yp value of the bunch \n",
    "# the with signal processors. Because there are different number particles in each slice this can not be done\n",
    "# by simply averaging the values from the slices, but the signal must be weighted by \n",
    "# a number of macro particles per slice at first. The weighting can be done by using ChargeWeighter(...). \n",
    "# By the default, the maximum weight in ChargeWeighter is normalized to be one, but, in this case, an average \n",
    "# weight must be 1, so an input parameter for the normalization is used. \n",
    "\n",
    "processors_bunch_x = [\n",
    "    ChargeWeighter(normalization = 'average_weight'),\n",
    "    Averager()\n",
    "]\n",
    "processors_bunch_y = [\n",
    "    ChargeWeighter(normalization = 'average_weight'),\n",
    "    Averager()\n",
    "]\n",
    "\n",
    "feedback_map = OneboxFeedback(feedback_gain,slicer_OneBox_bunch,processors_bunch_x,processors_bunch_y)\n",
    "total_map_OneBox_bunch = [i for i in trans_map] + [long_map] + [feedback_map]\n",
    "\n",
    "track(n_turns, bunch_OneBox_bunch,total_map_OneBox_bunch,tracker_OneBox_bunch)"
   ]
  },
  {
   "cell_type": "code",
   "execution_count": null,
   "metadata": {
    "collapsed": false
   },
   "outputs": [],
   "source": [
    "# The traces from the ideal slice and the ideal bunch feedbacks are plotted as well as \n",
    "# the particle projections of the bunches after the simulations\n",
    "\n",
    "compare_traces([tracker_ref,tracker_IdealSliceFB,tracker_IdealBunchFB],\n",
    "               ['Reference, no FB', 'Ideal slice', 'Ideal bunch'])\n",
    "compare_projections([bunch_init, bunch_IdealSliceFB, bunch_IdealBunchFB], \n",
    "                    ['Reference, no FB', 'Ideal slice FB', 'Ideal bunch FB'])"
   ]
  },
  {
   "cell_type": "code",
   "execution_count": null,
   "metadata": {
    "collapsed": false
   },
   "outputs": [],
   "source": [
    "# In here, the traces and particle projections from the ideal slice and the idal bunch feedbacks are compared \n",
    "# to those implemented with OneboxFeedback\n",
    "\n",
    "compare_traces([tracker_IdealSliceFB,tracker_IdealBunchFB, tracker_OneBox_slice, tracker_OneBox_bunch],\n",
    "               ['Ideal slice', 'Ideal bunch','OneBox slice', 'OneBox bunch'])\n",
    "compare_projections([bunch_IdealSliceFB, bunch_IdealBunchFB,bunch_OneBox_slice,bunch_OneBox_bunch], \n",
    "                    ['Ideal slice FB', 'Ideal bunch FB','OneBox slice', 'OneBox bunch'])"
   ]
  },
  {
   "cell_type": "code",
   "execution_count": null,
   "metadata": {
    "collapsed": true
   },
   "outputs": [],
   "source": []
  }
 ],
 "metadata": {
  "kernelspec": {
   "display_name": "Python 2",
   "language": "python",
   "name": "python2"
  },
  "language_info": {
   "codemirror_mode": {
    "name": "ipython",
    "version": 2
   },
   "file_extension": ".py",
   "mimetype": "text/x-python",
   "name": "python",
   "nbconvert_exporter": "python",
   "pygments_lexer": "ipython2",
   "version": "2.7.5"
  }
 },
 "nbformat": 4,
 "nbformat_minor": 0
}
