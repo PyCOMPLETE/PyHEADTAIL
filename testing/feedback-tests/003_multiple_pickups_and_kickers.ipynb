{
 "cells": [
  {
   "cell_type": "code",
   "execution_count": null,
   "metadata": {
    "collapsed": false
   },
   "outputs": [],
   "source": [
    "from __future__ import unicode_literals\n",
    "\n",
    "import sys, os\n",
    "BIN = os.path.expanduser(\"../../../\")\n",
    "sys.path.append(BIN)\n",
    "\n",
    "import numpy as np\n",
    "from scipy.constants import m_p, c, e, pi\n",
    "import matplotlib.pyplot as plt\n",
    "%matplotlib inline\n",
    "\n",
    "import copy\n",
    "import itertools\n",
    "\n",
    "from test_tools import generate_objects, BunchTracker, track, compare_traces, compare_projections, Machine\n",
    "\n",
    "from PyHEADTAIL.feedback.feedback import OneboxFeedback, Kicker, PickUp\n",
    "from PyHEADTAIL.feedback.processors import ChargeWeighter, Averager, Bypass\n",
    "from PyHEADTAIL.feedback.digital_processors import HilbertPhaseShiftRegister\n",
    "\n",
    "np.random.seed(0)"
   ]
  },
  {
   "cell_type": "code",
   "execution_count": null,
   "metadata": {
    "collapsed": false
   },
   "outputs": [],
   "source": [
    "\"\"\" \n",
    "    In this example, a feedback system consisting of multiple pickups and kickers is demonstrated. It differs\n",
    "    very little from the previous example (002_separated_pickup_and_kicker), but it might look messy\n",
    "    because multiple pickups and kickers must be initialized.\n",
    "\n",
    "    @author Jani Komppula\n",
    "    @date 26/09/2016\n",
    "    @copyright CERN\n",
    "    \n",
    "\"\"\""
   ]
  },
  {
   "cell_type": "code",
   "execution_count": null,
   "metadata": {
    "collapsed": false
   },
   "outputs": [],
   "source": [
    "# Basic parameters for the simulation\n",
    "n_macroparticles = 10000\n",
    "n_slices = 20\n",
    "n_segments = 5\n",
    "n_sigma_z = 3 \n",
    "\n",
    "n_turns = 400\n",
    "\n",
    "# Longitudinal motion of the bunch has not been taken into account in this example.\n",
    "machine = Machine(Q_s = 0.00000001)\n",
    "# If you want to include the longitudinal motion, please uncomment the following line\n",
    "# machine = Machine(Q_s = 0.0020443)\n",
    "\n",
    "bunch_ref, slicer_ref,trans_map, long_map = generate_objects(machine, n_macroparticles,n_segments, \n",
    "                                                             n_slices,n_sigma_z)\n",
    "bunch_unkicked = copy.deepcopy(bunch_ref)\n"
   ]
  },
  {
   "cell_type": "code",
   "execution_count": null,
   "metadata": {
    "collapsed": false
   },
   "outputs": [],
   "source": [
    "# This creates an artificially kicked bunch, which will be damped with different feedback systems\n",
    "\n",
    "slice_set = bunch_ref.get_slices(slicer_ref, statistics=True)\n",
    "p_idx = slice_set.particles_within_cuts\n",
    "s_idx = slice_set.slice_index_of_particle.take(p_idx)\n",
    "\n",
    "# random kicks\n",
    "kick_x = 0.003*(-1.0+2*np.random.rand(n_slices))\n",
    "kick_y = 0.003*(-1.0+2*np.random.rand(n_slices))\n",
    "\n",
    "for p_id, s_id in itertools.izip(p_idx,s_idx):\n",
    "    bunch_ref.x[p_id] += kick_x[s_id]\n",
    "    bunch_ref.y[p_id] += kick_y[s_id]\n",
    "    \n",
    "bunch_init = copy.deepcopy(bunch_ref)\n",
    "tracker_ref = BunchTracker(bunch_init)\n",
    "maps_ref = [i for i in trans_map] + [long_map]\n",
    "track(n_turns, bunch_init,maps_ref,tracker_ref)"
   ]
  },
  {
   "cell_type": "code",
   "execution_count": null,
   "metadata": {
    "collapsed": true
   },
   "outputs": [],
   "source": [
    "feedback_gain = 0.01\n",
    "# feedback_gain = (0.01,0.01)\n",
    "\n",
    "# Parameters for the registers\n",
    "delay = 1 \n",
    "n_values = 3\n",
    "\n",
    "\n",
    "xp_per_x = bunch_unkicked.sigma_xp()/bunch_unkicked.sigma_x()\n",
    "yp_per_y = bunch_unkicked.sigma_yp()/bunch_unkicked.sigma_y()"
   ]
  },
  {
   "cell_type": "code",
   "execution_count": null,
   "metadata": {
    "collapsed": false
   },
   "outputs": [],
   "source": [
    "# A reference feedback system for the examples presented in this file is the ideal bunch feedback:\n",
    "\n",
    "bunch_OneBox_bunch = copy.deepcopy(bunch_ref)\n",
    "tracker_OneBox_bunch = BunchTracker(bunch_OneBox_bunch)\n",
    "slicer_OneBox_bunch = copy.deepcopy(slicer_ref)\n",
    "\n",
    "processors_bunch_x = [\n",
    "    ChargeWeighter(normalization = 'average_weight'),\n",
    "    Averager()\n",
    "]\n",
    "processors_bunch_y = [\n",
    "    ChargeWeighter(normalization = 'average_weight'),\n",
    "    Averager()\n",
    "]\n",
    "\n",
    "# Because two kickers are used in this example, two times higher gain is used in this reference system\n",
    "# which consists of one kicker\n",
    "feedback_map = OneboxFeedback(2.*feedback_gain,slicer_OneBox_bunch,processors_bunch_x,processors_bunch_y)\n",
    "total_map_OneBox_bunch = [i for i in trans_map] + [long_map] + [feedback_map]\n",
    "\n",
    "track(n_turns, bunch_OneBox_bunch,total_map_OneBox_bunch,tracker_OneBox_bunch)\n",
    "# If you don't understand details of the code above, please study examples from \n",
    "# the file 001_ideal_feedbacks.ipynb"
   ]
  },
  {
   "cell_type": "code",
   "execution_count": null,
   "metadata": {
    "collapsed": false
   },
   "outputs": [],
   "source": [
    "bunch_multi_object = copy.deepcopy(bunch_ref)\n",
    "tracker_multi_object = BunchTracker(bunch_multi_object)\n",
    "slicer_multi_object = copy.deepcopy(slicer_ref)"
   ]
  },
  {
   "cell_type": "code",
   "execution_count": null,
   "metadata": {
    "collapsed": false
   },
   "outputs": [],
   "source": [
    "# Three pickups are initialized in this cell. Exactly same code as used for creating a pickup in previous example\n",
    "# (002_separated_pickup_and_kicker.ipynb) is used also in this example\n",
    "\n",
    "# Pickups can be set to any location in the accelerator, but the location must be between two maps elements\n",
    "# of PyHEADTAIL transverse map. In this example, it was chosen that the pickups are after first, second \n",
    "# and third elements of the trans_map. Trans_map divides the accelerator to a number of segments determined \n",
    "# in the variable 'n_segments'\n",
    "\n",
    "##############\n",
    "## Pickup 1 ##\n",
    "##############\n",
    "processors_pickup_1_x = [\n",
    "    ChargeWeighter(normalization = 'average_weight'),\n",
    "    Averager(),\n",
    "    HilbertPhaseShiftRegister(n_values, machine.Q_x, delay)\n",
    "]\n",
    "processors_pickup_1_y = [\n",
    "    ChargeWeighter(normalization = 'average_weight'),\n",
    "    Averager(),\n",
    "    HilbertPhaseShiftRegister(n_values, machine.Q_y, delay)\n",
    "]\n",
    "\n",
    "# The total betatron phase angle over the accelerator is 2*pi*Q. In this example, the accelerator is divided\n",
    "# into a number of equally length segments determined by 'n_segments'. Thus, a length of the one segment in\n",
    "# betatron phase is 2*pi*Q/n_segments. The location of the pickup is after the first segment, so this number \n",
    "# is multiplied by one.\n",
    "\n",
    "pickup_1_position_x = 1.*2.*pi/float(n_segments)*machine.Q_x\n",
    "pickup_1_position_y = 1.*2.*pi/float(n_segments)*machine.Q_y\n",
    "\n",
    "pickup_1_map = PickUp(slicer_multi_object,\n",
    "                    processors_pickup_1_x,processors_pickup_1_y, \n",
    "                    pickup_1_position_x, pickup_1_position_y)\n",
    "\n",
    "\n",
    "##############\n",
    "## Pickup 2 ##\n",
    "##############\n",
    "processors_pickup_2_x = [\n",
    "    ChargeWeighter(normalization = 'average_weight'),\n",
    "    Averager(),\n",
    "    HilbertPhaseShiftRegister(n_values, machine.Q_x, delay)\n",
    "]\n",
    "processors_pickup_2_y = [\n",
    "    ChargeWeighter(normalization = 'average_weight'),\n",
    "    Averager(),\n",
    "    HilbertPhaseShiftRegister(n_values, machine.Q_y, delay)\n",
    "]\n",
    "pickup_2_position_x = 2.*2.*pi/float(n_segments)*machine.Q_x\n",
    "pickup_2_position_y = 2.*2.*pi/float(n_segments)*machine.Q_y\n",
    "\n",
    "pickup_2_map = PickUp(slicer_multi_object,\n",
    "                    processors_pickup_2_x,processors_pickup_2_y, \n",
    "                    pickup_2_position_x, pickup_2_position_y)\n",
    "\n",
    "\n",
    "##############\n",
    "## Pickup 3 ##\n",
    "##############\n",
    "processors_pickup_3_x = [\n",
    "    ChargeWeighter(normalization = 'average_weight'),\n",
    "    Averager(),\n",
    "    HilbertPhaseShiftRegister(n_values, machine.Q_x, delay)\n",
    "]\n",
    "processors_pickup_3_y = [\n",
    "    ChargeWeighter(normalization = 'average_weight'),\n",
    "    Averager(),\n",
    "    HilbertPhaseShiftRegister(n_values, machine.Q_y, delay)\n",
    "]\n",
    "pickup_3_position_x = 3.*2.*pi/float(n_segments)*machine.Q_x\n",
    "pickup_3_position_y = 3.*2.*pi/float(n_segments)*machine.Q_y\n",
    "\n",
    "pickup_3_map = PickUp(slicer_multi_object,\n",
    "                    processors_pickup_3_x,processors_pickup_3_y, \n",
    "                    pickup_3_position_x, pickup_3_position_y)"
   ]
  },
  {
   "cell_type": "code",
   "execution_count": null,
   "metadata": {
    "collapsed": false
   },
   "outputs": [],
   "source": [
    "# Two kickers are initialized in this cell. The same code as used for initializing a kicker in \n",
    "# the previous example  (002_separated_pickup_and_kicker.ipynb) is used also in this example. \n",
    "# The only difference is that references for multiple pickups are given as an input parameter.\n",
    "#\n",
    "# Also kickers can be set to any location in the accelerator, but the location must be between two map\n",
    "# elements of PyHEADTAIL transverse map. In this example, it was chosen that the kickers are located after \n",
    "# second and fourth transfer map elements. Furthermore, it was chosen that Kicker 1 utilizes signals from \n",
    "# pickups 1 and 2 and Kicker 2 utilizes signals from pickups 1 and 3.\n",
    "\n",
    "##############\n",
    "## Kicker 1 ##\n",
    "##############\n",
    "processors_kicker_1_x = [Bypass()]\n",
    "processors_kicker_1_y = [Bypass()]\n",
    "\n",
    "registers_kicker_1_x = [\n",
    "    processors_pickup_1_x[2],\n",
    "    processors_pickup_2_x[2]\n",
    "]\n",
    "registers_kicker_1_y = [\n",
    "    processors_pickup_1_y[2],\n",
    "    processors_pickup_2_y[2]\n",
    "]\n",
    "\n",
    "kicker_1_position_x = 2.*2.*pi/float(n_segments)*machine.Q_x\n",
    "kicker_1_position_y = 2.*2.*pi/float(n_segments)*machine.Q_y\n",
    "\n",
    "kicker_1_map = Kicker(feedback_gain, slicer_multi_object,\n",
    "                    processors_kicker_1_x, processors_kicker_1_y,\n",
    "                    kicker_1_position_x, kicker_1_position_y,\n",
    "                    registers_kicker_1_x, registers_kicker_1_y, \n",
    "                    xp_per_x, yp_per_y)\n",
    "\n",
    "##############\n",
    "## Kicker 2 ##\n",
    "##############\n",
    "processors_kicker_2_x = [Bypass()]\n",
    "processors_kicker_2_y = [Bypass()]\n",
    "\n",
    "registers_kicker_2_x = [\n",
    "    processors_pickup_1_x[2],\n",
    "    processors_pickup_3_x[2]\n",
    "]\n",
    "registers_kicker_2_y = [\n",
    "    processors_pickup_1_y[2],\n",
    "    processors_pickup_3_y[2]\n",
    "]\n",
    "\n",
    "kicker_2_position_x = 4.*2.*pi/float(n_segments)*machine.Q_x\n",
    "kicker_2_position_y = 4.*2.*pi/float(n_segments)*machine.Q_y\n",
    "\n",
    "kicker_2_map = Kicker(feedback_gain, slicer_multi_object,\n",
    "                    processors_kicker_2_x, processors_kicker_2_y,\n",
    "                    kicker_2_position_x, kicker_2_position_y,\n",
    "                    registers_kicker_2_x, registers_kicker_2_y, \n",
    "                    xp_per_x, yp_per_y)\n"
   ]
  },
  {
   "cell_type": "code",
   "execution_count": null,
   "metadata": {
    "collapsed": false
   },
   "outputs": [],
   "source": [
    "# After that the maps of the pickups and the kickers must be added to correct slots of the total map \n",
    "# determined by the locations of the picups and the kickers\n",
    "total_map_multi_object = [trans_map[0]] + [pickup_1_map] + [trans_map[1]] + [pickup_2_map] + [kicker_1_map] + [trans_map[2]]+ [pickup_3_map] + [trans_map[3]] + [kicker_2_map]\n",
    "for element in trans_map[4:]:\n",
    "    total_map_multi_object += [element]\n",
    "total_map_multi_object += [long_map]\n",
    "    \n",
    "track(n_turns, bunch_multi_object,total_map_multi_object,tracker_multi_object)"
   ]
  },
  {
   "cell_type": "code",
   "execution_count": null,
   "metadata": {
    "collapsed": false
   },
   "outputs": [],
   "source": [
    "# In here, the traces and the projections from different implementations of the feedback system are compared.\n",
    "# Note the scale in the emittance figures.\n",
    "\n",
    "compare_traces([tracker_OneBox_bunch,tracker_multi_object],\n",
    "               ['Ideal', 'Multiple pickups and kickers'])\n",
    "compare_projections([ bunch_OneBox_bunch,  bunch_multi_object], \n",
    "                    ['Ideal', 'Multiple pickups and kickers'])"
   ]
  },
  {
   "cell_type": "code",
   "execution_count": null,
   "metadata": {
    "collapsed": true
   },
   "outputs": [],
   "source": []
  }
 ],
 "metadata": {
  "kernelspec": {
   "display_name": "Python 2",
   "language": "python",
   "name": "python2"
  },
  "language_info": {
   "codemirror_mode": {
    "name": "ipython",
    "version": 2
   },
   "file_extension": ".py",
   "mimetype": "text/x-python",
   "name": "python",
   "nbconvert_exporter": "python",
   "pygments_lexer": "ipython2",
   "version": "2.7.5"
  }
 },
 "nbformat": 4,
 "nbformat_minor": 0
}
